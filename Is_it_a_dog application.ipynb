{
  "nbformat": 4,
  "nbformat_minor": 0,
  "metadata": {
    "colab": {
      "provenance": [],
      "gpuType": "T4",
      "authorship_tag": "ABX9TyMPe/t2dNQEITBMO47dl3HW",
      "include_colab_link": true
    },
    "kernelspec": {
      "name": "python3",
      "display_name": "Python 3"
    },
    "language_info": {
      "name": "python"
    },
    "accelerator": "GPU",
    "widgets": {
      "application/vnd.jupyter.widget-state+json": {
        "7b75a45ad8404bbdb159d3f6d296357f": {
          "model_module": "@jupyter-widgets/output",
          "model_name": "OutputModel",
          "model_module_version": "1.0.0",
          "state": {
            "_dom_classes": [],
            "_model_module": "@jupyter-widgets/output",
            "_model_module_version": "1.0.0",
            "_model_name": "OutputModel",
            "_view_count": null,
            "_view_module": "@jupyter-widgets/output",
            "_view_module_version": "1.0.0",
            "_view_name": "OutputView",
            "layout": "IPY_MODEL_9aacaf158bf44479adc4ab5617698dbe",
            "msg_id": "",
            "outputs": [
              {
                "output_type": "display_data",
                "data": {
                  "text/plain": "<PIL.Image.Image image mode=RGB size=128x96>",
                  "image/png": "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\n"
                },
                "metadata": {}
              }
            ]
          }
        },
        "9aacaf158bf44479adc4ab5617698dbe": {
          "model_module": "@jupyter-widgets/base",
          "model_name": "LayoutModel",
          "model_module_version": "1.2.0",
          "state": {
            "_model_module": "@jupyter-widgets/base",
            "_model_module_version": "1.2.0",
            "_model_name": "LayoutModel",
            "_view_count": null,
            "_view_module": "@jupyter-widgets/base",
            "_view_module_version": "1.2.0",
            "_view_name": "LayoutView",
            "align_content": null,
            "align_items": null,
            "align_self": null,
            "border": null,
            "bottom": null,
            "display": null,
            "flex": null,
            "flex_flow": null,
            "grid_area": null,
            "grid_auto_columns": null,
            "grid_auto_flow": null,
            "grid_auto_rows": null,
            "grid_column": null,
            "grid_gap": null,
            "grid_row": null,
            "grid_template_areas": null,
            "grid_template_columns": null,
            "grid_template_rows": null,
            "height": null,
            "justify_content": null,
            "justify_items": null,
            "left": null,
            "margin": null,
            "max_height": null,
            "max_width": null,
            "min_height": null,
            "min_width": null,
            "object_fit": null,
            "object_position": null,
            "order": null,
            "overflow": null,
            "overflow_x": null,
            "overflow_y": null,
            "padding": null,
            "right": null,
            "top": null,
            "visibility": null,
            "width": null
          }
        },
        "8bb7e6c2d59444eb8eac2c0e47ad88dc": {
          "model_module": "@jupyter-widgets/controls",
          "model_name": "LabelModel",
          "model_module_version": "1.5.0",
          "state": {
            "_dom_classes": [],
            "_model_module": "@jupyter-widgets/controls",
            "_model_module_version": "1.5.0",
            "_model_name": "LabelModel",
            "_view_count": null,
            "_view_module": "@jupyter-widgets/controls",
            "_view_module_version": "1.5.0",
            "_view_name": "LabelView",
            "description": "",
            "description_tooltip": null,
            "layout": "IPY_MODEL_23551adc77a5410ba1d5b8810a227e60",
            "placeholder": "​",
            "style": "IPY_MODEL_4c3556ad2ceb4635a755d631367ed1eb",
            "value": "Prediction: Dog; Probability: 0.9767"
          }
        },
        "23551adc77a5410ba1d5b8810a227e60": {
          "model_module": "@jupyter-widgets/base",
          "model_name": "LayoutModel",
          "model_module_version": "1.2.0",
          "state": {
            "_model_module": "@jupyter-widgets/base",
            "_model_module_version": "1.2.0",
            "_model_name": "LayoutModel",
            "_view_count": null,
            "_view_module": "@jupyter-widgets/base",
            "_view_module_version": "1.2.0",
            "_view_name": "LayoutView",
            "align_content": null,
            "align_items": null,
            "align_self": null,
            "border": null,
            "bottom": null,
            "display": null,
            "flex": null,
            "flex_flow": null,
            "grid_area": null,
            "grid_auto_columns": null,
            "grid_auto_flow": null,
            "grid_auto_rows": null,
            "grid_column": null,
            "grid_gap": null,
            "grid_row": null,
            "grid_template_areas": null,
            "grid_template_columns": null,
            "grid_template_rows": null,
            "height": null,
            "justify_content": null,
            "justify_items": null,
            "left": null,
            "margin": null,
            "max_height": null,
            "max_width": null,
            "min_height": null,
            "min_width": null,
            "object_fit": null,
            "object_position": null,
            "order": null,
            "overflow": null,
            "overflow_x": null,
            "overflow_y": null,
            "padding": null,
            "right": null,
            "top": null,
            "visibility": null,
            "width": null
          }
        },
        "4c3556ad2ceb4635a755d631367ed1eb": {
          "model_module": "@jupyter-widgets/controls",
          "model_name": "DescriptionStyleModel",
          "model_module_version": "1.5.0",
          "state": {
            "_model_module": "@jupyter-widgets/controls",
            "_model_module_version": "1.5.0",
            "_model_name": "DescriptionStyleModel",
            "_view_count": null,
            "_view_module": "@jupyter-widgets/base",
            "_view_module_version": "1.2.0",
            "_view_name": "StyleView",
            "description_width": ""
          }
        },
        "11bcbb7e753748668db59a90ca7ade51": {
          "model_module": "@jupyter-widgets/controls",
          "model_name": "ButtonModel",
          "model_module_version": "1.5.0",
          "state": {
            "_dom_classes": [],
            "_model_module": "@jupyter-widgets/controls",
            "_model_module_version": "1.5.0",
            "_model_name": "ButtonModel",
            "_view_count": null,
            "_view_module": "@jupyter-widgets/controls",
            "_view_module_version": "1.5.0",
            "_view_name": "ButtonView",
            "button_style": "",
            "description": "Classify",
            "disabled": false,
            "icon": "",
            "layout": "IPY_MODEL_00c47538f3434ad18fe891766ec21787",
            "style": "IPY_MODEL_6a7f50cc4d10480f8ccc1b2816489076",
            "tooltip": ""
          }
        },
        "00c47538f3434ad18fe891766ec21787": {
          "model_module": "@jupyter-widgets/base",
          "model_name": "LayoutModel",
          "model_module_version": "1.2.0",
          "state": {
            "_model_module": "@jupyter-widgets/base",
            "_model_module_version": "1.2.0",
            "_model_name": "LayoutModel",
            "_view_count": null,
            "_view_module": "@jupyter-widgets/base",
            "_view_module_version": "1.2.0",
            "_view_name": "LayoutView",
            "align_content": null,
            "align_items": null,
            "align_self": null,
            "border": null,
            "bottom": null,
            "display": null,
            "flex": null,
            "flex_flow": null,
            "grid_area": null,
            "grid_auto_columns": null,
            "grid_auto_flow": null,
            "grid_auto_rows": null,
            "grid_column": null,
            "grid_gap": null,
            "grid_row": null,
            "grid_template_areas": null,
            "grid_template_columns": null,
            "grid_template_rows": null,
            "height": null,
            "justify_content": null,
            "justify_items": null,
            "left": null,
            "margin": null,
            "max_height": null,
            "max_width": null,
            "min_height": null,
            "min_width": null,
            "object_fit": null,
            "object_position": null,
            "order": null,
            "overflow": null,
            "overflow_x": null,
            "overflow_y": null,
            "padding": null,
            "right": null,
            "top": null,
            "visibility": null,
            "width": null
          }
        },
        "6a7f50cc4d10480f8ccc1b2816489076": {
          "model_module": "@jupyter-widgets/controls",
          "model_name": "ButtonStyleModel",
          "model_module_version": "1.5.0",
          "state": {
            "_model_module": "@jupyter-widgets/controls",
            "_model_module_version": "1.5.0",
            "_model_name": "ButtonStyleModel",
            "_view_count": null,
            "_view_module": "@jupyter-widgets/base",
            "_view_module_version": "1.2.0",
            "_view_name": "StyleView",
            "button_color": null,
            "font_weight": ""
          }
        },
        "a901ab53a3fa4d5bb728e533f468920e": {
          "model_module": "@jupyter-widgets/controls",
          "model_name": "VBoxModel",
          "model_module_version": "1.5.0",
          "state": {
            "_dom_classes": [],
            "_model_module": "@jupyter-widgets/controls",
            "_model_module_version": "1.5.0",
            "_model_name": "VBoxModel",
            "_view_count": null,
            "_view_module": "@jupyter-widgets/controls",
            "_view_module_version": "1.5.0",
            "_view_name": "VBoxView",
            "box_style": "",
            "children": [
              "IPY_MODEL_326672693cf143ca89412c966ddcc27a",
              "IPY_MODEL_40edab6332e5456ba64b634f37d9b0c3",
              "IPY_MODEL_11bcbb7e753748668db59a90ca7ade51",
              "IPY_MODEL_7b75a45ad8404bbdb159d3f6d296357f",
              "IPY_MODEL_8bb7e6c2d59444eb8eac2c0e47ad88dc"
            ],
            "layout": "IPY_MODEL_9e57572c5f8246eeb057d5573b71c0c3"
          }
        },
        "326672693cf143ca89412c966ddcc27a": {
          "model_module": "@jupyter-widgets/controls",
          "model_name": "LabelModel",
          "model_module_version": "1.5.0",
          "state": {
            "_dom_classes": [],
            "_model_module": "@jupyter-widgets/controls",
            "_model_module_version": "1.5.0",
            "_model_name": "LabelModel",
            "_view_count": null,
            "_view_module": "@jupyter-widgets/controls",
            "_view_module_version": "1.5.0",
            "_view_name": "LabelView",
            "description": "",
            "description_tooltip": null,
            "layout": "IPY_MODEL_bac29f40034846c2bac46d1eb772e783",
            "placeholder": "​",
            "style": "IPY_MODEL_7cb6c531707e48f2b0f859e7ed5c290d",
            "value": "Select your cat or dog!"
          }
        },
        "40edab6332e5456ba64b634f37d9b0c3": {
          "model_module": "@jupyter-widgets/controls",
          "model_name": "FileUploadModel",
          "model_module_version": "1.5.0",
          "state": {
            "_counter": 1,
            "_dom_classes": [],
            "_model_module": "@jupyter-widgets/controls",
            "_model_module_version": "1.5.0",
            "_model_name": "FileUploadModel",
            "_view_count": null,
            "_view_module": "@jupyter-widgets/controls",
            "_view_module_version": "1.5.0",
            "_view_name": "FileUploadView",
            "accept": "",
            "button_style": "",
            "data": [
              null
            ],
            "description": "Upload",
            "description_tooltip": null,
            "disabled": false,
            "error": "",
            "icon": "upload",
            "layout": "IPY_MODEL_99d67b6e3065445c977d5d9c774f1518",
            "metadata": [
              {
                "name": "IMG_2503.jpeg",
                "type": "image/jpeg",
                "size": 5803154,
                "lastModified": 1707864384000
              }
            ],
            "multiple": false,
            "style": "IPY_MODEL_c2c3873349e34d47b45ff5efa5672648"
          }
        },
        "9e57572c5f8246eeb057d5573b71c0c3": {
          "model_module": "@jupyter-widgets/base",
          "model_name": "LayoutModel",
          "model_module_version": "1.2.0",
          "state": {
            "_model_module": "@jupyter-widgets/base",
            "_model_module_version": "1.2.0",
            "_model_name": "LayoutModel",
            "_view_count": null,
            "_view_module": "@jupyter-widgets/base",
            "_view_module_version": "1.2.0",
            "_view_name": "LayoutView",
            "align_content": null,
            "align_items": null,
            "align_self": null,
            "border": null,
            "bottom": null,
            "display": null,
            "flex": null,
            "flex_flow": null,
            "grid_area": null,
            "grid_auto_columns": null,
            "grid_auto_flow": null,
            "grid_auto_rows": null,
            "grid_column": null,
            "grid_gap": null,
            "grid_row": null,
            "grid_template_areas": null,
            "grid_template_columns": null,
            "grid_template_rows": null,
            "height": null,
            "justify_content": null,
            "justify_items": null,
            "left": null,
            "margin": null,
            "max_height": null,
            "max_width": null,
            "min_height": null,
            "min_width": null,
            "object_fit": null,
            "object_position": null,
            "order": null,
            "overflow": null,
            "overflow_x": null,
            "overflow_y": null,
            "padding": null,
            "right": null,
            "top": null,
            "visibility": null,
            "width": null
          }
        },
        "bac29f40034846c2bac46d1eb772e783": {
          "model_module": "@jupyter-widgets/base",
          "model_name": "LayoutModel",
          "model_module_version": "1.2.0",
          "state": {
            "_model_module": "@jupyter-widgets/base",
            "_model_module_version": "1.2.0",
            "_model_name": "LayoutModel",
            "_view_count": null,
            "_view_module": "@jupyter-widgets/base",
            "_view_module_version": "1.2.0",
            "_view_name": "LayoutView",
            "align_content": null,
            "align_items": null,
            "align_self": null,
            "border": null,
            "bottom": null,
            "display": null,
            "flex": null,
            "flex_flow": null,
            "grid_area": null,
            "grid_auto_columns": null,
            "grid_auto_flow": null,
            "grid_auto_rows": null,
            "grid_column": null,
            "grid_gap": null,
            "grid_row": null,
            "grid_template_areas": null,
            "grid_template_columns": null,
            "grid_template_rows": null,
            "height": null,
            "justify_content": null,
            "justify_items": null,
            "left": null,
            "margin": null,
            "max_height": null,
            "max_width": null,
            "min_height": null,
            "min_width": null,
            "object_fit": null,
            "object_position": null,
            "order": null,
            "overflow": null,
            "overflow_x": null,
            "overflow_y": null,
            "padding": null,
            "right": null,
            "top": null,
            "visibility": null,
            "width": null
          }
        },
        "7cb6c531707e48f2b0f859e7ed5c290d": {
          "model_module": "@jupyter-widgets/controls",
          "model_name": "DescriptionStyleModel",
          "model_module_version": "1.5.0",
          "state": {
            "_model_module": "@jupyter-widgets/controls",
            "_model_module_version": "1.5.0",
            "_model_name": "DescriptionStyleModel",
            "_view_count": null,
            "_view_module": "@jupyter-widgets/base",
            "_view_module_version": "1.2.0",
            "_view_name": "StyleView",
            "description_width": ""
          }
        },
        "99d67b6e3065445c977d5d9c774f1518": {
          "model_module": "@jupyter-widgets/base",
          "model_name": "LayoutModel",
          "model_module_version": "1.2.0",
          "state": {
            "_model_module": "@jupyter-widgets/base",
            "_model_module_version": "1.2.0",
            "_model_name": "LayoutModel",
            "_view_count": null,
            "_view_module": "@jupyter-widgets/base",
            "_view_module_version": "1.2.0",
            "_view_name": "LayoutView",
            "align_content": null,
            "align_items": null,
            "align_self": null,
            "border": null,
            "bottom": null,
            "display": null,
            "flex": null,
            "flex_flow": null,
            "grid_area": null,
            "grid_auto_columns": null,
            "grid_auto_flow": null,
            "grid_auto_rows": null,
            "grid_column": null,
            "grid_gap": null,
            "grid_row": null,
            "grid_template_areas": null,
            "grid_template_columns": null,
            "grid_template_rows": null,
            "height": null,
            "justify_content": null,
            "justify_items": null,
            "left": null,
            "margin": null,
            "max_height": null,
            "max_width": null,
            "min_height": null,
            "min_width": null,
            "object_fit": null,
            "object_position": null,
            "order": null,
            "overflow": null,
            "overflow_x": null,
            "overflow_y": null,
            "padding": null,
            "right": null,
            "top": null,
            "visibility": null,
            "width": null
          }
        },
        "c2c3873349e34d47b45ff5efa5672648": {
          "model_module": "@jupyter-widgets/controls",
          "model_name": "ButtonStyleModel",
          "model_module_version": "1.5.0",
          "state": {
            "_model_module": "@jupyter-widgets/controls",
            "_model_module_version": "1.5.0",
            "_model_name": "ButtonStyleModel",
            "_view_count": null,
            "_view_module": "@jupyter-widgets/base",
            "_view_module_version": "1.2.0",
            "_view_name": "StyleView",
            "button_color": null,
            "font_weight": ""
          }
        }
      }
    }
  },
  "cells": [
    {
      "cell_type": "markdown",
      "metadata": {
        "id": "view-in-github",
        "colab_type": "text"
      },
      "source": [
        "<a href=\"https://colab.research.google.com/github/dphummel/AI/blob/main/Is_it_a_dog%20application.ipynb\" target=\"_parent\"><img src=\"https://colab.research.google.com/assets/colab-badge.svg\" alt=\"Open In Colab\"/></a>"
      ]
    },
    {
      "cell_type": "code",
      "source": [
        "# Upload the model\n",
        "path = Path()\n",
        "learn_inf = load_learner(path/\"model.pkl\")"
      ],
      "metadata": {
        "id": "AelhzSaAUcYj",
        "outputId": "ac2280a0-97fa-4f00-fb90-0ea2a781ed37",
        "colab": {
          "base_uri": "https://localhost:8080/"
        }
      },
      "execution_count": null,
      "outputs": [
        {
          "output_type": "stream",
          "name": "stdout",
          "text": [
            ".\n",
            "[Path('.config'), Path('model.pkl'), Path('sample_data')]\n"
          ]
        }
      ]
    },
    {
      "cell_type": "code",
      "source": [
        "def on_click_classify(change):\n",
        "    img = PILImage.create(btn_upload.data[-1])\n",
        "    out_pl.clear_output()\n",
        "    with out_pl: display(img.to_thumb(128,128))\n",
        "    pred,pred_idx,probs = learn_inf.predict(img)\n",
        "    lbl_pred.value = f'Prediction: {pred}; Probability: {probs[pred_idx]:.04f}'\n",
        "\n",
        "btn_run.on_click(on_click_classify)"
      ],
      "metadata": {
        "id": "inMtF4rpft-h"
      },
      "execution_count": null,
      "outputs": []
    },
    {
      "cell_type": "code",
      "source": [
        "btn_upload = widgets.FileUpload()"
      ],
      "metadata": {
        "id": "H1gs7zeYf0PQ"
      },
      "execution_count": null,
      "outputs": []
    },
    {
      "cell_type": "code",
      "source": [
        "VBox([widgets.Label('Select your cat or dog!'),\n",
        "      btn_upload, btn_run, out_pl, lbl_pred])"
      ],
      "metadata": {
        "id": "L4WJJPnbf51t",
        "outputId": "019ba0d1-170a-449d-f677-8934b8963534",
        "colab": {
          "base_uri": "https://localhost:8080/",
          "height": 241,
          "referenced_widgets": [
            "a901ab53a3fa4d5bb728e533f468920e",
            "326672693cf143ca89412c966ddcc27a",
            "40edab6332e5456ba64b634f37d9b0c3",
            "11bcbb7e753748668db59a90ca7ade51",
            "7b75a45ad8404bbdb159d3f6d296357f",
            "8bb7e6c2d59444eb8eac2c0e47ad88dc",
            "9e57572c5f8246eeb057d5573b71c0c3",
            "bac29f40034846c2bac46d1eb772e783",
            "7cb6c531707e48f2b0f859e7ed5c290d",
            "99d67b6e3065445c977d5d9c774f1518",
            "c2c3873349e34d47b45ff5efa5672648",
            "00c47538f3434ad18fe891766ec21787",
            "6a7f50cc4d10480f8ccc1b2816489076",
            "23551adc77a5410ba1d5b8810a227e60",
            "4c3556ad2ceb4635a755d631367ed1eb",
            "9aacaf158bf44479adc4ab5617698dbe"
          ]
        }
      },
      "execution_count": null,
      "outputs": [
        {
          "output_type": "display_data",
          "data": {
            "text/plain": [
              "VBox(children=(Label(value='Select your cat or dog!'), FileUpload(value={'IMG_2503.jpeg': {'metadata': {'name'…"
            ],
            "application/vnd.jupyter.widget-view+json": {
              "version_major": 2,
              "version_minor": 0,
              "model_id": "a901ab53a3fa4d5bb728e533f468920e"
            }
          },
          "metadata": {}
        }
      ]
    }
  ]
}