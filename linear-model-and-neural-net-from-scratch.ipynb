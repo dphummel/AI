{
 "cells": [
  {
   "cell_type": "markdown",
   "id": "ca6b9990",
   "metadata": {
    "papermill": {
     "duration": 0.142498,
     "end_time": "2024-08-16T15:44:10.332216",
     "exception": false,
     "start_time": "2024-08-16T15:44:10.189718",
     "status": "completed"
    },
    "tags": []
   },
   "source": [
    "## Introduction"
   ]
  },
  {
   "cell_type": "markdown",
   "id": "559afd32",
   "metadata": {
    "papermill": {
     "duration": 0.136059,
     "end_time": "2024-08-16T15:44:10.607404",
     "exception": false,
     "start_time": "2024-08-16T15:44:10.471345",
     "status": "completed"
    },
    "tags": []
   },
   "source": [
    "In this notebook we're going to build and train a deep learning model \"from scratch\" -- by which I mean that we're not going to use any pre-built architecture, or optimizers, or data loading frameworks, etc.\n",
    "\n",
    "We'll be assuming you already know the basics of how a neural network works. If you don't, read this notebook first: [How does a neural net really work?\n",
    "](https://www.kaggle.com/code/jhoward/how-does-a-neural-net-really-work). We'll be using Kaggle's [Titanic](https://www.kaggle.com/competitions/titanic/) competition in this notebook, because it's very small and simple, but also has displays many of the tricky real-life issues that we need to handle in most practical projects. (Note, however, that this competition is a small \"learner\" competition on Kaggle, so don't expect to actually see much benefits from using a neural net just yet; that will come once we try our some real competitions!)\n",
    "\n",
    "It's great to be able to run the same notebook on your own machine or Colab, as well as Kaggle. To allow for this, we use this code to download the data as needed when not on Kaggle (see [this notebook](https://www.kaggle.com/code/jhoward/getting-started-with-nlp-for-absolute-beginners/) for details about this technique):"
   ]
  },
  {
   "cell_type": "code",
   "execution_count": 1,
   "id": "1ef85f5f",
   "metadata": {
    "execution": {
     "iopub.execute_input": "2024-08-16T15:44:10.891284Z",
     "iopub.status.busy": "2024-08-16T15:44:10.890949Z",
     "iopub.status.idle": "2024-08-16T15:44:10.903289Z",
     "shell.execute_reply": "2024-08-16T15:44:10.902599Z"
    },
    "papermill": {
     "duration": 0.15668,
     "end_time": "2024-08-16T15:44:10.905522",
     "exception": false,
     "start_time": "2024-08-16T15:44:10.748842",
     "status": "completed"
    },
    "tags": []
   },
   "outputs": [],
   "source": [
    "import os\n",
    "from pathlib import Path\n",
    "\n",
    "iskaggle = os.environ.get('KAGGLE_KERNEL_RUN_TYPE', '')\n",
    "if iskaggle: path = Path('../input/titanic')\n",
    "else:\n",
    "    path = Path('titanic')\n",
    "    if not path.exists():\n",
    "        import zipfile,kaggle\n",
    "        kaggle.api.competition_download_cli(str(path))\n",
    "        zipfile.ZipFile(f'{path}.zip').extractall(path)"
   ]
  },
  {
   "cell_type": "markdown",
   "id": "68388b60",
   "metadata": {
    "hidden": true,
    "papermill": {
     "duration": 0.140846,
     "end_time": "2024-08-16T15:44:11.191186",
     "exception": false,
     "start_time": "2024-08-16T15:44:11.050340",
     "status": "completed"
    },
    "tags": []
   },
   "source": [
    "Note that the data for Kaggle comps always lives in the `../input` folder. The easiest way to get the path is to click the \"K\" button in the top-right of the Kaggle notebook, click on the folder shown there, and click the copy button.\n",
    "\n",
    "We'll be using *numpy* and *pytorch* for array calculations in this notebook, and *pandas* for working with tabular data, so we'll import them and set them to display using a bit more space than they default to."
   ]
  },
  {
   "cell_type": "code",
   "execution_count": 2,
   "id": "84b1e606",
   "metadata": {
    "execution": {
     "iopub.execute_input": "2024-08-16T15:44:11.472999Z",
     "iopub.status.busy": "2024-08-16T15:44:11.472215Z",
     "iopub.status.idle": "2024-08-16T15:44:13.060376Z",
     "shell.execute_reply": "2024-08-16T15:44:13.059753Z"
    },
    "papermill": {
     "duration": 1.731225,
     "end_time": "2024-08-16T15:44:13.062700",
     "exception": false,
     "start_time": "2024-08-16T15:44:11.331475",
     "status": "completed"
    },
    "tags": []
   },
   "outputs": [],
   "source": [
    "import torch, numpy as np, pandas as pd\n",
    "np.set_printoptions(linewidth=140)\n",
    "torch.set_printoptions(linewidth=140, sci_mode=False, edgeitems=7)\n",
    "pd.set_option('display.width', 140)"
   ]
  },
  {
   "cell_type": "markdown",
   "id": "57fb73ea",
   "metadata": {
    "heading_collapsed": true,
    "papermill": {
     "duration": 0.143645,
     "end_time": "2024-08-16T15:44:13.350453",
     "exception": false,
     "start_time": "2024-08-16T15:44:13.206808",
     "status": "completed"
    },
    "tags": []
   },
   "source": [
    "## Cleaning the data"
   ]
  },
  {
   "cell_type": "markdown",
   "id": "503562eb",
   "metadata": {
    "hidden": true,
    "papermill": {
     "duration": 0.140623,
     "end_time": "2024-08-16T15:44:13.633138",
     "exception": false,
     "start_time": "2024-08-16T15:44:13.492515",
     "status": "completed"
    },
    "tags": []
   },
   "source": [
    "This is a *tabular data* competition -- the data is in the form of a table. It's provided as a Comma Separated Values (CSV) file. We can open it using the *pandas* library, which will create a `DataFrame`."
   ]
  },
  {
   "cell_type": "code",
   "execution_count": 3,
   "id": "b68a9633",
   "metadata": {
    "execution": {
     "iopub.execute_input": "2024-08-16T15:44:13.918472Z",
     "iopub.status.busy": "2024-08-16T15:44:13.917703Z",
     "iopub.status.idle": "2024-08-16T15:44:13.966053Z",
     "shell.execute_reply": "2024-08-16T15:44:13.965240Z"
    },
    "hidden": true,
    "papermill": {
     "duration": 0.194546,
     "end_time": "2024-08-16T15:44:13.969143",
     "exception": false,
     "start_time": "2024-08-16T15:44:13.774597",
     "status": "completed"
    },
    "scrolled": true,
    "tags": []
   },
   "outputs": [
    {
     "data": {
      "text/html": [
       "<div>\n",
       "<style scoped>\n",
       "    .dataframe tbody tr th:only-of-type {\n",
       "        vertical-align: middle;\n",
       "    }\n",
       "\n",
       "    .dataframe tbody tr th {\n",
       "        vertical-align: top;\n",
       "    }\n",
       "\n",
       "    .dataframe thead th {\n",
       "        text-align: right;\n",
       "    }\n",
       "</style>\n",
       "<table border=\"1\" class=\"dataframe\">\n",
       "  <thead>\n",
       "    <tr style=\"text-align: right;\">\n",
       "      <th></th>\n",
       "      <th>PassengerId</th>\n",
       "      <th>Survived</th>\n",
       "      <th>Pclass</th>\n",
       "      <th>Name</th>\n",
       "      <th>Sex</th>\n",
       "      <th>Age</th>\n",
       "      <th>SibSp</th>\n",
       "      <th>Parch</th>\n",
       "      <th>Ticket</th>\n",
       "      <th>Fare</th>\n",
       "      <th>Cabin</th>\n",
       "      <th>Embarked</th>\n",
       "    </tr>\n",
       "  </thead>\n",
       "  <tbody>\n",
       "    <tr>\n",
       "      <th>0</th>\n",
       "      <td>1</td>\n",
       "      <td>0</td>\n",
       "      <td>3</td>\n",
       "      <td>Braund, Mr. Owen Harris</td>\n",
       "      <td>male</td>\n",
       "      <td>22.0</td>\n",
       "      <td>1</td>\n",
       "      <td>0</td>\n",
       "      <td>A/5 21171</td>\n",
       "      <td>7.2500</td>\n",
       "      <td>NaN</td>\n",
       "      <td>S</td>\n",
       "    </tr>\n",
       "    <tr>\n",
       "      <th>1</th>\n",
       "      <td>2</td>\n",
       "      <td>1</td>\n",
       "      <td>1</td>\n",
       "      <td>Cumings, Mrs. John Bradley (Florence Briggs Th...</td>\n",
       "      <td>female</td>\n",
       "      <td>38.0</td>\n",
       "      <td>1</td>\n",
       "      <td>0</td>\n",
       "      <td>PC 17599</td>\n",
       "      <td>71.2833</td>\n",
       "      <td>C85</td>\n",
       "      <td>C</td>\n",
       "    </tr>\n",
       "    <tr>\n",
       "      <th>2</th>\n",
       "      <td>3</td>\n",
       "      <td>1</td>\n",
       "      <td>3</td>\n",
       "      <td>Heikkinen, Miss. Laina</td>\n",
       "      <td>female</td>\n",
       "      <td>26.0</td>\n",
       "      <td>0</td>\n",
       "      <td>0</td>\n",
       "      <td>STON/O2. 3101282</td>\n",
       "      <td>7.9250</td>\n",
       "      <td>NaN</td>\n",
       "      <td>S</td>\n",
       "    </tr>\n",
       "    <tr>\n",
       "      <th>3</th>\n",
       "      <td>4</td>\n",
       "      <td>1</td>\n",
       "      <td>1</td>\n",
       "      <td>Futrelle, Mrs. Jacques Heath (Lily May Peel)</td>\n",
       "      <td>female</td>\n",
       "      <td>35.0</td>\n",
       "      <td>1</td>\n",
       "      <td>0</td>\n",
       "      <td>113803</td>\n",
       "      <td>53.1000</td>\n",
       "      <td>C123</td>\n",
       "      <td>S</td>\n",
       "    </tr>\n",
       "    <tr>\n",
       "      <th>4</th>\n",
       "      <td>5</td>\n",
       "      <td>0</td>\n",
       "      <td>3</td>\n",
       "      <td>Allen, Mr. William Henry</td>\n",
       "      <td>male</td>\n",
       "      <td>35.0</td>\n",
       "      <td>0</td>\n",
       "      <td>0</td>\n",
       "      <td>373450</td>\n",
       "      <td>8.0500</td>\n",
       "      <td>NaN</td>\n",
       "      <td>S</td>\n",
       "    </tr>\n",
       "    <tr>\n",
       "      <th>...</th>\n",
       "      <td>...</td>\n",
       "      <td>...</td>\n",
       "      <td>...</td>\n",
       "      <td>...</td>\n",
       "      <td>...</td>\n",
       "      <td>...</td>\n",
       "      <td>...</td>\n",
       "      <td>...</td>\n",
       "      <td>...</td>\n",
       "      <td>...</td>\n",
       "      <td>...</td>\n",
       "      <td>...</td>\n",
       "    </tr>\n",
       "    <tr>\n",
       "      <th>886</th>\n",
       "      <td>887</td>\n",
       "      <td>0</td>\n",
       "      <td>2</td>\n",
       "      <td>Montvila, Rev. Juozas</td>\n",
       "      <td>male</td>\n",
       "      <td>27.0</td>\n",
       "      <td>0</td>\n",
       "      <td>0</td>\n",
       "      <td>211536</td>\n",
       "      <td>13.0000</td>\n",
       "      <td>NaN</td>\n",
       "      <td>S</td>\n",
       "    </tr>\n",
       "    <tr>\n",
       "      <th>887</th>\n",
       "      <td>888</td>\n",
       "      <td>1</td>\n",
       "      <td>1</td>\n",
       "      <td>Graham, Miss. Margaret Edith</td>\n",
       "      <td>female</td>\n",
       "      <td>19.0</td>\n",
       "      <td>0</td>\n",
       "      <td>0</td>\n",
       "      <td>112053</td>\n",
       "      <td>30.0000</td>\n",
       "      <td>B42</td>\n",
       "      <td>S</td>\n",
       "    </tr>\n",
       "    <tr>\n",
       "      <th>888</th>\n",
       "      <td>889</td>\n",
       "      <td>0</td>\n",
       "      <td>3</td>\n",
       "      <td>Johnston, Miss. Catherine Helen \"Carrie\"</td>\n",
       "      <td>female</td>\n",
       "      <td>NaN</td>\n",
       "      <td>1</td>\n",
       "      <td>2</td>\n",
       "      <td>W./C. 6607</td>\n",
       "      <td>23.4500</td>\n",
       "      <td>NaN</td>\n",
       "      <td>S</td>\n",
       "    </tr>\n",
       "    <tr>\n",
       "      <th>889</th>\n",
       "      <td>890</td>\n",
       "      <td>1</td>\n",
       "      <td>1</td>\n",
       "      <td>Behr, Mr. Karl Howell</td>\n",
       "      <td>male</td>\n",
       "      <td>26.0</td>\n",
       "      <td>0</td>\n",
       "      <td>0</td>\n",
       "      <td>111369</td>\n",
       "      <td>30.0000</td>\n",
       "      <td>C148</td>\n",
       "      <td>C</td>\n",
       "    </tr>\n",
       "    <tr>\n",
       "      <th>890</th>\n",
       "      <td>891</td>\n",
       "      <td>0</td>\n",
       "      <td>3</td>\n",
       "      <td>Dooley, Mr. Patrick</td>\n",
       "      <td>male</td>\n",
       "      <td>32.0</td>\n",
       "      <td>0</td>\n",
       "      <td>0</td>\n",
       "      <td>370376</td>\n",
       "      <td>7.7500</td>\n",
       "      <td>NaN</td>\n",
       "      <td>Q</td>\n",
       "    </tr>\n",
       "  </tbody>\n",
       "</table>\n",
       "<p>891 rows × 12 columns</p>\n",
       "</div>"
      ],
      "text/plain": [
       "     PassengerId  Survived  Pclass                                               Name     Sex   Age  SibSp  Parch            Ticket  \\\n",
       "0              1         0       3                            Braund, Mr. Owen Harris    male  22.0      1      0         A/5 21171   \n",
       "1              2         1       1  Cumings, Mrs. John Bradley (Florence Briggs Th...  female  38.0      1      0          PC 17599   \n",
       "2              3         1       3                             Heikkinen, Miss. Laina  female  26.0      0      0  STON/O2. 3101282   \n",
       "3              4         1       1       Futrelle, Mrs. Jacques Heath (Lily May Peel)  female  35.0      1      0            113803   \n",
       "4              5         0       3                           Allen, Mr. William Henry    male  35.0      0      0            373450   \n",
       "..           ...       ...     ...                                                ...     ...   ...    ...    ...               ...   \n",
       "886          887         0       2                              Montvila, Rev. Juozas    male  27.0      0      0            211536   \n",
       "887          888         1       1                       Graham, Miss. Margaret Edith  female  19.0      0      0            112053   \n",
       "888          889         0       3           Johnston, Miss. Catherine Helen \"Carrie\"  female   NaN      1      2        W./C. 6607   \n",
       "889          890         1       1                              Behr, Mr. Karl Howell    male  26.0      0      0            111369   \n",
       "890          891         0       3                                Dooley, Mr. Patrick    male  32.0      0      0            370376   \n",
       "\n",
       "        Fare Cabin Embarked  \n",
       "0     7.2500   NaN        S  \n",
       "1    71.2833   C85        C  \n",
       "2     7.9250   NaN        S  \n",
       "3    53.1000  C123        S  \n",
       "4     8.0500   NaN        S  \n",
       "..       ...   ...      ...  \n",
       "886  13.0000   NaN        S  \n",
       "887  30.0000   B42        S  \n",
       "888  23.4500   NaN        S  \n",
       "889  30.0000  C148        C  \n",
       "890   7.7500   NaN        Q  \n",
       "\n",
       "[891 rows x 12 columns]"
      ]
     },
     "execution_count": 3,
     "metadata": {},
     "output_type": "execute_result"
    }
   ],
   "source": [
    "df = pd.read_csv(path/'train.csv')\n",
    "df"
   ]
  },
  {
   "cell_type": "markdown",
   "id": "96cb57fc",
   "metadata": {
    "hidden": true,
    "papermill": {
     "duration": 0.14683,
     "end_time": "2024-08-16T15:44:14.273167",
     "exception": false,
     "start_time": "2024-08-16T15:44:14.126337",
     "status": "completed"
    },
    "tags": []
   },
   "source": [
    "As we learned in the *How does a neural net really work* notebook, we going to want to multiply each column by some coefficients. But we can see in the `Cabin` column that there are `NaN` values, which is how Pandas refers to missing values. We can't multiply something by a missing value!\n",
    "\n",
    "Let's check which columns contain `NaN` values. Pandas' `isna()` function returns `True` (which is treated as `1` when used as a number) for `NaN` values, so we can just add them up for each column:"
   ]
  },
  {
   "cell_type": "code",
   "execution_count": 4,
   "id": "f0b06292",
   "metadata": {
    "execution": {
     "iopub.execute_input": "2024-08-16T15:44:14.560622Z",
     "iopub.status.busy": "2024-08-16T15:44:14.560335Z",
     "iopub.status.idle": "2024-08-16T15:44:14.569835Z",
     "shell.execute_reply": "2024-08-16T15:44:14.568875Z"
    },
    "hidden": true,
    "papermill": {
     "duration": 0.154216,
     "end_time": "2024-08-16T15:44:14.572662",
     "exception": false,
     "start_time": "2024-08-16T15:44:14.418446",
     "status": "completed"
    },
    "tags": []
   },
   "outputs": [
    {
     "data": {
      "text/plain": [
       "PassengerId      0\n",
       "Survived         0\n",
       "Pclass           0\n",
       "Name             0\n",
       "Sex              0\n",
       "Age            177\n",
       "SibSp            0\n",
       "Parch            0\n",
       "Ticket           0\n",
       "Fare             0\n",
       "Cabin          687\n",
       "Embarked         2\n",
       "dtype: int64"
      ]
     },
     "execution_count": 4,
     "metadata": {},
     "output_type": "execute_result"
    }
   ],
   "source": [
    "df.isna().sum()"
   ]
  },
  {
   "cell_type": "markdown",
   "id": "b8005b48",
   "metadata": {
    "hidden": true,
    "papermill": {
     "duration": 0.140228,
     "end_time": "2024-08-16T15:44:14.870573",
     "exception": false,
     "start_time": "2024-08-16T15:44:14.730345",
     "status": "completed"
    },
    "tags": []
   },
   "source": [
    "Notice that by default Pandas sums over columns.\n",
    "\n",
    "We'll need to replace the missing values with something. It doesn't generally matter too much what we choose. We'll use the most common value (the \"*mode*\"). We can use the `mode` function for that. One wrinkle is that it returns more than one row in the case of ties, so we just grab the first row with `iloc[0]`:"
   ]
  },
  {
   "cell_type": "code",
   "execution_count": 5,
   "id": "0d40fcaa",
   "metadata": {
    "execution": {
     "iopub.execute_input": "2024-08-16T15:44:15.158659Z",
     "iopub.status.busy": "2024-08-16T15:44:15.158018Z",
     "iopub.status.idle": "2024-08-16T15:44:15.179920Z",
     "shell.execute_reply": "2024-08-16T15:44:15.179174Z"
    },
    "hidden": true,
    "papermill": {
     "duration": 0.168509,
     "end_time": "2024-08-16T15:44:15.181907",
     "exception": false,
     "start_time": "2024-08-16T15:44:15.013398",
     "status": "completed"
    },
    "tags": []
   },
   "outputs": [
    {
     "data": {
      "text/plain": [
       "PassengerId                      1\n",
       "Survived                       0.0\n",
       "Pclass                         3.0\n",
       "Name           Abbing, Mr. Anthony\n",
       "Sex                           male\n",
       "Age                           24.0\n",
       "SibSp                          0.0\n",
       "Parch                          0.0\n",
       "Ticket                        1601\n",
       "Fare                          8.05\n",
       "Cabin                      B96 B98\n",
       "Embarked                         S\n",
       "Name: 0, dtype: object"
      ]
     },
     "execution_count": 5,
     "metadata": {},
     "output_type": "execute_result"
    }
   ],
   "source": [
    "modes = df.mode().iloc[0]\n",
    "modes"
   ]
  },
  {
   "cell_type": "markdown",
   "id": "56232686",
   "metadata": {
    "hidden": true,
    "papermill": {
     "duration": 0.142146,
     "end_time": "2024-08-16T15:44:15.468178",
     "exception": false,
     "start_time": "2024-08-16T15:44:15.326032",
     "status": "completed"
    },
    "tags": []
   },
   "source": [
    "BTW, it's never a good idea to use functions without understanding them. So be sure to google for anything you're not familiar with. E.g if you want to learn about `iloc` (which is a very important function indeed!) then Google will give you a link to a [great tutorial](https://www.shanelynn.ie/pandas-iloc-loc-select-rows-and-columns-dataframe/).\n",
    "\n",
    "Now that we've got the mode of each column, we can use `fillna` to replace the missing values with the mode of each column. We'll do it \"in place\" -- meaning that we'll change the dataframe itself, rather than returning a new one."
   ]
  },
  {
   "cell_type": "code",
   "execution_count": 6,
   "id": "003bf962",
   "metadata": {
    "execution": {
     "iopub.execute_input": "2024-08-16T15:44:15.757654Z",
     "iopub.status.busy": "2024-08-16T15:44:15.757363Z",
     "iopub.status.idle": "2024-08-16T15:44:15.768330Z",
     "shell.execute_reply": "2024-08-16T15:44:15.767698Z"
    },
    "hidden": true,
    "papermill": {
     "duration": 0.157828,
     "end_time": "2024-08-16T15:44:15.770210",
     "exception": false,
     "start_time": "2024-08-16T15:44:15.612382",
     "status": "completed"
    },
    "tags": []
   },
   "outputs": [],
   "source": [
    "df.fillna(modes, inplace=True)"
   ]
  },
  {
   "cell_type": "markdown",
   "id": "d4205efc",
   "metadata": {
    "hidden": true,
    "papermill": {
     "duration": 0.143382,
     "end_time": "2024-08-16T15:44:16.056612",
     "exception": false,
     "start_time": "2024-08-16T15:44:15.913230",
     "status": "completed"
    },
    "tags": []
   },
   "source": [
    "We can now check there's no missing values left:"
   ]
  },
  {
   "cell_type": "code",
   "execution_count": 7,
   "id": "3e68d3f0",
   "metadata": {
    "execution": {
     "iopub.execute_input": "2024-08-16T15:44:16.348711Z",
     "iopub.status.busy": "2024-08-16T15:44:16.348439Z",
     "iopub.status.idle": "2024-08-16T15:44:16.357491Z",
     "shell.execute_reply": "2024-08-16T15:44:16.356696Z"
    },
    "hidden": true,
    "papermill": {
     "duration": 0.158525,
     "end_time": "2024-08-16T15:44:16.359613",
     "exception": false,
     "start_time": "2024-08-16T15:44:16.201088",
     "status": "completed"
    },
    "tags": []
   },
   "outputs": [
    {
     "data": {
      "text/plain": [
       "PassengerId    0\n",
       "Survived       0\n",
       "Pclass         0\n",
       "Name           0\n",
       "Sex            0\n",
       "Age            0\n",
       "SibSp          0\n",
       "Parch          0\n",
       "Ticket         0\n",
       "Fare           0\n",
       "Cabin          0\n",
       "Embarked       0\n",
       "dtype: int64"
      ]
     },
     "execution_count": 7,
     "metadata": {},
     "output_type": "execute_result"
    }
   ],
   "source": [
    "df.isna().sum()"
   ]
  },
  {
   "cell_type": "markdown",
   "id": "638b72cd",
   "metadata": {
    "hidden": true,
    "papermill": {
     "duration": 0.142139,
     "end_time": "2024-08-16T15:44:16.647073",
     "exception": false,
     "start_time": "2024-08-16T15:44:16.504934",
     "status": "completed"
    },
    "tags": []
   },
   "source": [
    "Here's how we get a quick summary of all the numeric columns in the dataset:"
   ]
  },
  {
   "cell_type": "code",
   "execution_count": 8,
   "id": "a29524c8",
   "metadata": {
    "execution": {
     "iopub.execute_input": "2024-08-16T15:44:16.936958Z",
     "iopub.status.busy": "2024-08-16T15:44:16.936686Z",
     "iopub.status.idle": "2024-08-16T15:44:16.973321Z",
     "shell.execute_reply": "2024-08-16T15:44:16.972459Z"
    },
    "hidden": true,
    "papermill": {
     "duration": 0.184295,
     "end_time": "2024-08-16T15:44:16.975477",
     "exception": false,
     "start_time": "2024-08-16T15:44:16.791182",
     "status": "completed"
    },
    "tags": []
   },
   "outputs": [
    {
     "data": {
      "text/html": [
       "<div>\n",
       "<style scoped>\n",
       "    .dataframe tbody tr th:only-of-type {\n",
       "        vertical-align: middle;\n",
       "    }\n",
       "\n",
       "    .dataframe tbody tr th {\n",
       "        vertical-align: top;\n",
       "    }\n",
       "\n",
       "    .dataframe thead th {\n",
       "        text-align: right;\n",
       "    }\n",
       "</style>\n",
       "<table border=\"1\" class=\"dataframe\">\n",
       "  <thead>\n",
       "    <tr style=\"text-align: right;\">\n",
       "      <th></th>\n",
       "      <th>PassengerId</th>\n",
       "      <th>Survived</th>\n",
       "      <th>Pclass</th>\n",
       "      <th>Age</th>\n",
       "      <th>SibSp</th>\n",
       "      <th>Parch</th>\n",
       "      <th>Fare</th>\n",
       "    </tr>\n",
       "  </thead>\n",
       "  <tbody>\n",
       "    <tr>\n",
       "      <th>count</th>\n",
       "      <td>891.000000</td>\n",
       "      <td>891.000000</td>\n",
       "      <td>891.000000</td>\n",
       "      <td>891.000000</td>\n",
       "      <td>891.000000</td>\n",
       "      <td>891.000000</td>\n",
       "      <td>891.000000</td>\n",
       "    </tr>\n",
       "    <tr>\n",
       "      <th>mean</th>\n",
       "      <td>446.000000</td>\n",
       "      <td>0.383838</td>\n",
       "      <td>2.308642</td>\n",
       "      <td>28.566970</td>\n",
       "      <td>0.523008</td>\n",
       "      <td>0.381594</td>\n",
       "      <td>32.204208</td>\n",
       "    </tr>\n",
       "    <tr>\n",
       "      <th>std</th>\n",
       "      <td>257.353842</td>\n",
       "      <td>0.486592</td>\n",
       "      <td>0.836071</td>\n",
       "      <td>13.199572</td>\n",
       "      <td>1.102743</td>\n",
       "      <td>0.806057</td>\n",
       "      <td>49.693429</td>\n",
       "    </tr>\n",
       "    <tr>\n",
       "      <th>min</th>\n",
       "      <td>1.000000</td>\n",
       "      <td>0.000000</td>\n",
       "      <td>1.000000</td>\n",
       "      <td>0.420000</td>\n",
       "      <td>0.000000</td>\n",
       "      <td>0.000000</td>\n",
       "      <td>0.000000</td>\n",
       "    </tr>\n",
       "    <tr>\n",
       "      <th>25%</th>\n",
       "      <td>223.500000</td>\n",
       "      <td>0.000000</td>\n",
       "      <td>2.000000</td>\n",
       "      <td>22.000000</td>\n",
       "      <td>0.000000</td>\n",
       "      <td>0.000000</td>\n",
       "      <td>7.910400</td>\n",
       "    </tr>\n",
       "    <tr>\n",
       "      <th>50%</th>\n",
       "      <td>446.000000</td>\n",
       "      <td>0.000000</td>\n",
       "      <td>3.000000</td>\n",
       "      <td>24.000000</td>\n",
       "      <td>0.000000</td>\n",
       "      <td>0.000000</td>\n",
       "      <td>14.454200</td>\n",
       "    </tr>\n",
       "    <tr>\n",
       "      <th>75%</th>\n",
       "      <td>668.500000</td>\n",
       "      <td>1.000000</td>\n",
       "      <td>3.000000</td>\n",
       "      <td>35.000000</td>\n",
       "      <td>1.000000</td>\n",
       "      <td>0.000000</td>\n",
       "      <td>31.000000</td>\n",
       "    </tr>\n",
       "    <tr>\n",
       "      <th>max</th>\n",
       "      <td>891.000000</td>\n",
       "      <td>1.000000</td>\n",
       "      <td>3.000000</td>\n",
       "      <td>80.000000</td>\n",
       "      <td>8.000000</td>\n",
       "      <td>6.000000</td>\n",
       "      <td>512.329200</td>\n",
       "    </tr>\n",
       "  </tbody>\n",
       "</table>\n",
       "</div>"
      ],
      "text/plain": [
       "       PassengerId    Survived      Pclass         Age       SibSp       Parch        Fare\n",
       "count   891.000000  891.000000  891.000000  891.000000  891.000000  891.000000  891.000000\n",
       "mean    446.000000    0.383838    2.308642   28.566970    0.523008    0.381594   32.204208\n",
       "std     257.353842    0.486592    0.836071   13.199572    1.102743    0.806057   49.693429\n",
       "min       1.000000    0.000000    1.000000    0.420000    0.000000    0.000000    0.000000\n",
       "25%     223.500000    0.000000    2.000000   22.000000    0.000000    0.000000    7.910400\n",
       "50%     446.000000    0.000000    3.000000   24.000000    0.000000    0.000000   14.454200\n",
       "75%     668.500000    1.000000    3.000000   35.000000    1.000000    0.000000   31.000000\n",
       "max     891.000000    1.000000    3.000000   80.000000    8.000000    6.000000  512.329200"
      ]
     },
     "execution_count": 8,
     "metadata": {},
     "output_type": "execute_result"
    }
   ],
   "source": [
    "import numpy as np\n",
    "\n",
    "df.describe(include=(np.number))"
   ]
  },
  {
   "cell_type": "markdown",
   "id": "894d2993",
   "metadata": {
    "execution": {
     "iopub.execute_input": "2022-05-13T11:02:34.328433Z",
     "iopub.status.busy": "2022-05-13T11:02:34.327999Z",
     "iopub.status.idle": "2022-05-13T11:02:34.336993Z",
     "shell.execute_reply": "2022-05-13T11:02:34.335466Z",
     "shell.execute_reply.started": "2022-05-13T11:02:34.32838Z"
    },
    "hidden": true,
    "papermill": {
     "duration": 0.152124,
     "end_time": "2024-08-16T15:44:17.274093",
     "exception": false,
     "start_time": "2024-08-16T15:44:17.121969",
     "status": "completed"
    },
    "tags": []
   },
   "source": [
    "We can see that `Fare` contains mainly values of around `0` to `30`, but there's a few really big ones. This is very common with fields contain monetary values, and it can cause problems for our model, because once that column is multiplied by a coefficient later, the few rows with really big values will dominate the result.\n",
    "\n",
    "You can see the issue most clearly visually by looking at a histogram, which shows a long tail to the right (and don't forget: if you're not entirely sure what a histogram is, Google \"[histogram tutorial](https://www.google.com/search?q=histogram+tutorial&oq=histogram+tutorial)\" and do a bit of reading before continuing on):"
   ]
  },
  {
   "cell_type": "code",
   "execution_count": 9,
   "id": "316c3441",
   "metadata": {
    "execution": {
     "iopub.execute_input": "2024-08-16T15:44:17.575243Z",
     "iopub.status.busy": "2024-08-16T15:44:17.574937Z",
     "iopub.status.idle": "2024-08-16T15:44:17.835014Z",
     "shell.execute_reply": "2024-08-16T15:44:17.834149Z"
    },
    "hidden": true,
    "papermill": {
     "duration": 0.412505,
     "end_time": "2024-08-16T15:44:17.837260",
     "exception": false,
     "start_time": "2024-08-16T15:44:17.424755",
     "status": "completed"
    },
    "tags": []
   },
   "outputs": [
    {
     "data": {
      "image/png": "[encoded data removed]",
      "text/plain": [
       "<Figure size 432x288 with 1 Axes>"
      ]
     },
     "metadata": {
      "needs_background": "light"
     },
     "output_type": "display_data"
    }
   ],
   "source": [
    "df['Fare'].hist();"
   ]
  },
  {
   "cell_type": "markdown",
   "id": "3f243969",
   "metadata": {
    "execution": {
     "iopub.execute_input": "2022-05-13T11:02:34.328433Z",
     "iopub.status.busy": "2022-05-13T11:02:34.327999Z",
     "iopub.status.idle": "2022-05-13T11:02:34.336993Z",
     "shell.execute_reply": "2022-05-13T11:02:34.335466Z",
     "shell.execute_reply.started": "2022-05-13T11:02:34.32838Z"
    },
    "hidden": true,
    "papermill": {
     "duration": 0.146307,
     "end_time": "2024-08-16T15:44:18.130839",
     "exception": false,
     "start_time": "2024-08-16T15:44:17.984532",
     "status": "completed"
    },
    "tags": []
   },
   "source": [
    "To fix this, the most common approach is to take the logarithm, which squishes the big numbers and makes the distribution more reasonable. Note, however, that there are zeros in the `Fare` column, and `log(0)` is infinite -- to fix this, we'll simply add `1` to all values first:"
   ]
  },
  {
   "cell_type": "code",
   "execution_count": 10,
   "id": "fde239cd",
   "metadata": {
    "execution": {
     "iopub.execute_input": "2024-08-16T15:44:18.425273Z",
     "iopub.status.busy": "2024-08-16T15:44:18.424612Z",
     "iopub.status.idle": "2024-08-16T15:44:18.430131Z",
     "shell.execute_reply": "2024-08-16T15:44:18.429291Z"
    },
    "hidden": true,
    "papermill": {
     "duration": 0.152899,
     "end_time": "2024-08-16T15:44:18.432087",
     "exception": false,
     "start_time": "2024-08-16T15:44:18.279188",
     "status": "completed"
    },
    "tags": []
   },
   "outputs": [],
   "source": [
    "df['LogFare'] = np.log(df['Fare']+1)"
   ]
  },
  {
   "cell_type": "markdown",
   "id": "b57903fa",
   "metadata": {
    "hidden": true,
    "papermill": {
     "duration": 0.144292,
     "end_time": "2024-08-16T15:44:18.720050",
     "exception": false,
     "start_time": "2024-08-16T15:44:18.575758",
     "status": "completed"
    },
    "tags": []
   },
   "source": [
    "The histogram now shows a more even distribution of values without the long tail:"
   ]
  },
  {
   "cell_type": "code",
   "execution_count": 11,
   "id": "f4ffe027",
   "metadata": {
    "execution": {
     "iopub.execute_input": "2024-08-16T15:44:19.025246Z",
     "iopub.status.busy": "2024-08-16T15:44:19.024386Z",
     "iopub.status.idle": "2024-08-16T15:44:19.277906Z",
     "shell.execute_reply": "2024-08-16T15:44:19.277122Z"
    },
    "hidden": true,
    "papermill": {
     "duration": 0.416355,
     "end_time": "2024-08-16T15:44:19.279962",
     "exception": false,
     "start_time": "2024-08-16T15:44:18.863607",
     "status": "completed"
    },
    "tags": []
   },
   "outputs": [
    {
     "data": {
      "image/png": "[encoded data removed]",
      "text/plain": [
       "<Figure size 432x288 with 1 Axes>"
      ]
     },
     "metadata": {
      "needs_background": "light"
     },
     "output_type": "display_data"
    }
   ],
   "source": [
    "df['LogFare'].hist();"
   ]
  },
  {
   "cell_type": "markdown",
   "id": "fa60fff0",
   "metadata": {
    "hidden": true,
    "papermill": {
     "duration": 0.149129,
     "end_time": "2024-08-16T15:44:19.574039",
     "exception": false,
     "start_time": "2024-08-16T15:44:19.424910",
     "status": "completed"
    },
    "tags": []
   },
   "source": [
    "It looks from the `describe()` output like `Pclass` contains just 3 values, which we can confirm by looking at the [Data Dictionary](https://www.kaggle.com/competitions/titanic/data) (which you should always study carefully for any project!) -- "
   ]
  },
  {
   "cell_type": "code",
   "execution_count": 12,
   "id": "da8f64d1",
   "metadata": {
    "execution": {
     "iopub.execute_input": "2024-08-16T15:44:19.871784Z",
     "iopub.status.busy": "2024-08-16T15:44:19.871481Z",
     "iopub.status.idle": "2024-08-16T15:44:19.878026Z",
     "shell.execute_reply": "2024-08-16T15:44:19.877261Z"
    },
    "hidden": true,
    "papermill": {
     "duration": 0.156616,
     "end_time": "2024-08-16T15:44:19.880006",
     "exception": false,
     "start_time": "2024-08-16T15:44:19.723390",
     "status": "completed"
    },
    "tags": []
   },
   "outputs": [
    {
     "data": {
      "text/plain": [
       "[1, 2, 3]"
      ]
     },
     "execution_count": 12,
     "metadata": {},
     "output_type": "execute_result"
    }
   ],
   "source": [
    "pclasses = sorted(df.Pclass.unique())\n",
    "pclasses"
   ]
  },
  {
   "cell_type": "markdown",
   "id": "97b13452",
   "metadata": {
    "hidden": true,
    "papermill": {
     "duration": 0.146096,
     "end_time": "2024-08-16T15:44:20.173770",
     "exception": false,
     "start_time": "2024-08-16T15:44:20.027674",
     "status": "completed"
    },
    "tags": []
   },
   "source": [
    "Here's how we get a quick summary of all the non-numeric columns in the dataset:"
   ]
  },
  {
   "cell_type": "code",
   "execution_count": 13,
   "id": "185f35c3",
   "metadata": {
    "execution": {
     "iopub.execute_input": "2024-08-16T15:44:20.479065Z",
     "iopub.status.busy": "2024-08-16T15:44:20.478793Z",
     "iopub.status.idle": "2024-08-16T15:44:20.502371Z",
     "shell.execute_reply": "2024-08-16T15:44:20.501468Z"
    },
    "hidden": true,
    "papermill": {
     "duration": 0.176747,
     "end_time": "2024-08-16T15:44:20.504571",
     "exception": false,
     "start_time": "2024-08-16T15:44:20.327824",
     "status": "completed"
    },
    "tags": []
   },
   "outputs": [
    {
     "data": {
      "text/html": [
       "<div>\n",
       "<style scoped>\n",
       "    .dataframe tbody tr th:only-of-type {\n",
       "        vertical-align: middle;\n",
       "    }\n",
       "\n",
       "    .dataframe tbody tr th {\n",
       "        vertical-align: top;\n",
       "    }\n",
       "\n",
       "    .dataframe thead th {\n",
       "        text-align: right;\n",
       "    }\n",
       "</style>\n",
       "<table border=\"1\" class=\"dataframe\">\n",
       "  <thead>\n",
       "    <tr style=\"text-align: right;\">\n",
       "      <th></th>\n",
       "      <th>Name</th>\n",
       "      <th>Sex</th>\n",
       "      <th>Ticket</th>\n",
       "      <th>Cabin</th>\n",
       "      <th>Embarked</th>\n",
       "    </tr>\n",
       "  </thead>\n",
       "  <tbody>\n",
       "    <tr>\n",
       "      <th>count</th>\n",
       "      <td>891</td>\n",
       "      <td>891</td>\n",
       "      <td>891</td>\n",
       "      <td>891</td>\n",
       "      <td>891</td>\n",
       "    </tr>\n",
       "    <tr>\n",
       "      <th>unique</th>\n",
       "      <td>891</td>\n",
       "      <td>2</td>\n",
       "      <td>681</td>\n",
       "      <td>147</td>\n",
       "      <td>3</td>\n",
       "    </tr>\n",
       "    <tr>\n",
       "      <th>top</th>\n",
       "      <td>Braund, Mr. Owen Harris</td>\n",
       "      <td>male</td>\n",
       "      <td>347082</td>\n",
       "      <td>B96 B98</td>\n",
       "      <td>S</td>\n",
       "    </tr>\n",
       "    <tr>\n",
       "      <th>freq</th>\n",
       "      <td>1</td>\n",
       "      <td>577</td>\n",
       "      <td>7</td>\n",
       "      <td>691</td>\n",
       "      <td>646</td>\n",
       "    </tr>\n",
       "  </tbody>\n",
       "</table>\n",
       "</div>"
      ],
      "text/plain": [
       "                           Name   Sex  Ticket    Cabin Embarked\n",
       "count                       891   891     891      891      891\n",
       "unique                      891     2     681      147        3\n",
       "top     Braund, Mr. Owen Harris  male  347082  B96 B98        S\n",
       "freq                          1   577       7      691      646"
      ]
     },
     "execution_count": 13,
     "metadata": {},
     "output_type": "execute_result"
    }
   ],
   "source": [
    "df.describe(include=[object])"
   ]
  },
  {
   "cell_type": "markdown",
   "id": "7dc177ea",
   "metadata": {
    "hidden": true,
    "papermill": {
     "duration": 0.148698,
     "end_time": "2024-08-16T15:44:20.801541",
     "exception": false,
     "start_time": "2024-08-16T15:44:20.652843",
     "status": "completed"
    },
    "tags": []
   },
   "source": [
    "Clearly we can't multiply strings like `male` or `S` by coefficients, so we need to replace those with numbers.\n",
    "\n",
    "We do that by creating new columns containing *dummy variables*. A dummy variable is a column that contains a `1` where a particular column contains a particular value, or a `0` otherwise. For instance, we could create a dummy variable for `Sex='male'`, which would be a new column containing `1` for rows where `Sex` is `'male'`, and 0 for rows where it isn't.\n",
    "\n",
    "Pandas can create these automatically using `get_dummies`, which also remove the original columns. We'll create dummy variables for `Pclass`, even although it's numeric, since the numbers `1`, `2`, and `3` correspond to first, second, and third class cabins - not to counts or measures that make sense to multiply by. We'll also create dummies for `Sex` and `Embarked` since we'll want to use those as predictors in our model. On the other hand, `Cabin`, `Name`, and `Ticket` have too many unique values for it to make sense creating dummy variables for them."
   ]
  },
  {
   "cell_type": "code",
   "execution_count": 14,
   "id": "6d6ef07e",
   "metadata": {
    "execution": {
     "iopub.execute_input": "2024-08-16T15:44:21.096152Z",
     "iopub.status.busy": "2024-08-16T15:44:21.095296Z",
     "iopub.status.idle": "2024-08-16T15:44:21.109336Z",
     "shell.execute_reply": "2024-08-16T15:44:21.108532Z"
    },
    "hidden": true,
    "papermill": {
     "duration": 0.165391,
     "end_time": "2024-08-16T15:44:21.111677",
     "exception": false,
     "start_time": "2024-08-16T15:44:20.946286",
     "status": "completed"
    },
    "tags": []
   },
   "outputs": [
    {
     "data": {
      "text/plain": [
       "Index(['PassengerId', 'Survived', 'Name', 'Age', 'SibSp', 'Parch', 'Ticket', 'Fare', 'Cabin', 'LogFare', 'Sex_female', 'Sex_male',\n",
       "       'Pclass_1', 'Pclass_2', 'Pclass_3', 'Embarked_C', 'Embarked_Q', 'Embarked_S'],\n",
       "      dtype='object')"
      ]
     },
     "execution_count": 14,
     "metadata": {},
     "output_type": "execute_result"
    }
   ],
   "source": [
    "df = pd.get_dummies(df, columns=[\"Sex\",\"Pclass\",\"Embarked\"])\n",
    "df.columns"
   ]
  },
  {
   "cell_type": "markdown",
   "id": "6839122b",
   "metadata": {
    "hidden": true,
    "papermill": {
     "duration": 0.154321,
     "end_time": "2024-08-16T15:44:21.429373",
     "exception": false,
     "start_time": "2024-08-16T15:44:21.275052",
     "status": "completed"
    },
    "tags": []
   },
   "source": [
    "We can see that 5 columns have been added to the end -- one for each of the possible values of each of the three columns we requested, and that those three requested columns have been removed.\n",
    "\n",
    "Here's what the first few rows of those newly added columns look like:"
   ]
  },
  {
   "cell_type": "code",
   "execution_count": 15,
   "id": "18adb68f",
   "metadata": {
    "execution": {
     "iopub.execute_input": "2024-08-16T15:44:21.733010Z",
     "iopub.status.busy": "2024-08-16T15:44:21.732719Z",
     "iopub.status.idle": "2024-08-16T15:44:21.746857Z",
     "shell.execute_reply": "2024-08-16T15:44:21.746107Z"
    },
    "hidden": true,
    "papermill": {
     "duration": 0.167584,
     "end_time": "2024-08-16T15:44:21.748911",
     "exception": false,
     "start_time": "2024-08-16T15:44:21.581327",
     "status": "completed"
    },
    "tags": []
   },
   "outputs": [
    {
     "data": {
      "text/html": [
       "<div>\n",
       "<style scoped>\n",
       "    .dataframe tbody tr th:only-of-type {\n",
       "        vertical-align: middle;\n",
       "    }\n",
       "\n",
       "    .dataframe tbody tr th {\n",
       "        vertical-align: top;\n",
       "    }\n",
       "\n",
       "    .dataframe thead th {\n",
       "        text-align: right;\n",
       "    }\n",
       "</style>\n",
       "<table border=\"1\" class=\"dataframe\">\n",
       "  <thead>\n",
       "    <tr style=\"text-align: right;\">\n",
       "      <th></th>\n",
       "      <th>Sex_male</th>\n",
       "      <th>Sex_female</th>\n",
       "      <th>Pclass_1</th>\n",
       "      <th>Pclass_2</th>\n",
       "      <th>Pclass_3</th>\n",
       "      <th>Embarked_C</th>\n",
       "      <th>Embarked_Q</th>\n",
       "      <th>Embarked_S</th>\n",
       "    </tr>\n",
       "  </thead>\n",
       "  <tbody>\n",
       "    <tr>\n",
       "      <th>0</th>\n",
       "      <td>1</td>\n",
       "      <td>0</td>\n",
       "      <td>0</td>\n",
       "      <td>0</td>\n",
       "      <td>1</td>\n",
       "      <td>0</td>\n",
       "      <td>0</td>\n",
       "      <td>1</td>\n",
       "    </tr>\n",
       "    <tr>\n",
       "      <th>1</th>\n",
       "      <td>0</td>\n",
       "      <td>1</td>\n",
       "      <td>1</td>\n",
       "      <td>0</td>\n",
       "      <td>0</td>\n",
       "      <td>1</td>\n",
       "      <td>0</td>\n",
       "      <td>0</td>\n",
       "    </tr>\n",
       "    <tr>\n",
       "      <th>2</th>\n",
       "      <td>0</td>\n",
       "      <td>1</td>\n",
       "      <td>0</td>\n",
       "      <td>0</td>\n",
       "      <td>1</td>\n",
       "      <td>0</td>\n",
       "      <td>0</td>\n",
       "      <td>1</td>\n",
       "    </tr>\n",
       "    <tr>\n",
       "      <th>3</th>\n",
       "      <td>0</td>\n",
       "      <td>1</td>\n",
       "      <td>1</td>\n",
       "      <td>0</td>\n",
       "      <td>0</td>\n",
       "      <td>0</td>\n",
       "      <td>0</td>\n",
       "      <td>1</td>\n",
       "    </tr>\n",
       "    <tr>\n",
       "      <th>4</th>\n",
       "      <td>1</td>\n",
       "      <td>0</td>\n",
       "      <td>0</td>\n",
       "      <td>0</td>\n",
       "      <td>1</td>\n",
       "      <td>0</td>\n",
       "      <td>0</td>\n",
       "      <td>1</td>\n",
       "    </tr>\n",
       "  </tbody>\n",
       "</table>\n",
       "</div>"
      ],
      "text/plain": [
       "   Sex_male  Sex_female  Pclass_1  Pclass_2  Pclass_3  Embarked_C  Embarked_Q  Embarked_S\n",
       "0         1           0         0         0         1           0           0           1\n",
       "1         0           1         1         0         0           1           0           0\n",
       "2         0           1         0         0         1           0           0           1\n",
       "3         0           1         1         0         0           0           0           1\n",
       "4         1           0         0         0         1           0           0           1"
      ]
     },
     "execution_count": 15,
     "metadata": {},
     "output_type": "execute_result"
    }
   ],
   "source": [
    "added_cols = ['Sex_male', 'Sex_female', 'Pclass_1', 'Pclass_2', 'Pclass_3', 'Embarked_C', 'Embarked_Q', 'Embarked_S']\n",
    "df[added_cols].head()"
   ]
  },
  {
   "cell_type": "markdown",
   "id": "6467ca96",
   "metadata": {
    "hidden": true,
    "papermill": {
     "duration": 0.159698,
     "end_time": "2024-08-16T15:44:22.054956",
     "exception": false,
     "start_time": "2024-08-16T15:44:21.895258",
     "status": "completed"
    },
    "tags": []
   },
   "source": [
    "Now we can create our independent (predictors) and dependent (target) variables. They both need to be PyTorch tensors. Our dependent variable is `Survived`:"
   ]
  },
  {
   "cell_type": "code",
   "execution_count": 16,
   "id": "9792c67c",
   "metadata": {
    "execution": {
     "iopub.execute_input": "2024-08-16T15:44:22.371010Z",
     "iopub.status.busy": "2024-08-16T15:44:22.370276Z",
     "iopub.status.idle": "2024-08-16T15:44:22.385985Z",
     "shell.execute_reply": "2024-08-16T15:44:22.385332Z"
    },
    "hidden": true,
    "papermill": {
     "duration": 0.173041,
     "end_time": "2024-08-16T15:44:22.388020",
     "exception": false,
     "start_time": "2024-08-16T15:44:22.214979",
     "status": "completed"
    },
    "tags": []
   },
   "outputs": [],
   "source": [
    "from torch import tensor\n",
    "\n",
    "t_dep = tensor(df.Survived)"
   ]
  },
  {
   "cell_type": "markdown",
   "id": "d89ddd96",
   "metadata": {
    "hidden": true,
    "papermill": {
     "duration": 0.143525,
     "end_time": "2024-08-16T15:44:22.674287",
     "exception": false,
     "start_time": "2024-08-16T15:44:22.530762",
     "status": "completed"
    },
    "tags": []
   },
   "source": [
    "Our independent variables are all the continuous variables of interest plus all the dummy variables we just created:"
   ]
  },
  {
   "cell_type": "code",
   "execution_count": 17,
   "id": "7d587094",
   "metadata": {
    "execution": {
     "iopub.execute_input": "2024-08-16T15:44:22.967945Z",
     "iopub.status.busy": "2024-08-16T15:44:22.967336Z",
     "iopub.status.idle": "2024-08-16T15:44:23.031459Z",
     "shell.execute_reply": "2024-08-16T15:44:23.030847Z"
    },
    "hidden": true,
    "papermill": {
     "duration": 0.210931,
     "end_time": "2024-08-16T15:44:23.033600",
     "exception": false,
     "start_time": "2024-08-16T15:44:22.822669",
     "status": "completed"
    },
    "tags": []
   },
   "outputs": [
    {
     "data": {
      "text/plain": [
       "tensor([[22.0000,  1.0000,  0.0000,  2.1102,  1.0000,  0.0000,  0.0000,  0.0000,  1.0000,  0.0000,  0.0000,  1.0000],\n",
       "        [38.0000,  1.0000,  0.0000,  4.2806,  0.0000,  1.0000,  1.0000,  0.0000,  0.0000,  1.0000,  0.0000,  0.0000],\n",
       "        [26.0000,  0.0000,  0.0000,  2.1889,  0.0000,  1.0000,  0.0000,  0.0000,  1.0000,  0.0000,  0.0000,  1.0000],\n",
       "        [35.0000,  1.0000,  0.0000,  3.9908,  0.0000,  1.0000,  1.0000,  0.0000,  0.0000,  0.0000,  0.0000,  1.0000],\n",
       "        [35.0000,  0.0000,  0.0000,  2.2028,  1.0000,  0.0000,  0.0000,  0.0000,  1.0000,  0.0000,  0.0000,  1.0000],\n",
       "        [24.0000,  0.0000,  0.0000,  2.2469,  1.0000,  0.0000,  0.0000,  0.0000,  1.0000,  0.0000,  1.0000,  0.0000],\n",
       "        [54.0000,  0.0000,  0.0000,  3.9677,  1.0000,  0.0000,  1.0000,  0.0000,  0.0000,  0.0000,  0.0000,  1.0000],\n",
       "        ...,\n",
       "        [25.0000,  0.0000,  0.0000,  2.0857,  1.0000,  0.0000,  0.0000,  0.0000,  1.0000,  0.0000,  0.0000,  1.0000],\n",
       "        [39.0000,  0.0000,  5.0000,  3.4054,  0.0000,  1.0000,  0.0000,  0.0000,  1.0000,  0.0000,  1.0000,  0.0000],\n",
       "        [27.0000,  0.0000,  0.0000,  2.6391,  1.0000,  0.0000,  0.0000,  1.0000,  0.0000,  0.0000,  0.0000,  1.0000],\n",
       "        [19.0000,  0.0000,  0.0000,  3.4340,  0.0000,  1.0000,  1.0000,  0.0000,  0.0000,  0.0000,  0.0000,  1.0000],\n",
       "        [24.0000,  1.0000,  2.0000,  3.1966,  0.0000,  1.0000,  0.0000,  0.0000,  1.0000,  0.0000,  0.0000,  1.0000],\n",
       "        [26.0000,  0.0000,  0.0000,  3.4340,  1.0000,  0.0000,  1.0000,  0.0000,  0.0000,  1.0000,  0.0000,  0.0000],\n",
       "        [32.0000,  0.0000,  0.0000,  2.1691,  1.0000,  0.0000,  0.0000,  0.0000,  1.0000,  0.0000,  1.0000,  0.0000]])"
      ]
     },
     "execution_count": 17,
     "metadata": {},
     "output_type": "execute_result"
    }
   ],
   "source": [
    "indep_cols = ['Age', 'SibSp', 'Parch', 'LogFare'] + added_cols\n",
    "\n",
    "t_indep = tensor(df[indep_cols].values, dtype=torch.float)\n",
    "t_indep"
   ]
  },
  {
   "cell_type": "markdown",
   "id": "fe91f327",
   "metadata": {
    "hidden": true,
    "papermill": {
     "duration": 0.152218,
     "end_time": "2024-08-16T15:44:23.337755",
     "exception": false,
     "start_time": "2024-08-16T15:44:23.185537",
     "status": "completed"
    },
    "tags": []
   },
   "source": [
    "Here's the number of rows and columns we have for our independent variables:"
   ]
  },
  {
   "cell_type": "code",
   "execution_count": 18,
   "id": "20309b34",
   "metadata": {
    "execution": {
     "iopub.execute_input": "2024-08-16T15:44:23.638661Z",
     "iopub.status.busy": "2024-08-16T15:44:23.638086Z",
     "iopub.status.idle": "2024-08-16T15:44:23.643607Z",
     "shell.execute_reply": "2024-08-16T15:44:23.642836Z"
    },
    "hidden": true,
    "papermill": {
     "duration": 0.160936,
     "end_time": "2024-08-16T15:44:23.645892",
     "exception": false,
     "start_time": "2024-08-16T15:44:23.484956",
     "status": "completed"
    },
    "tags": []
   },
   "outputs": [
    {
     "data": {
      "text/plain": [
       "torch.Size([891, 12])"
      ]
     },
     "execution_count": 18,
     "metadata": {},
     "output_type": "execute_result"
    }
   ],
   "source": [
    "t_indep.shape"
   ]
  },
  {
   "cell_type": "markdown",
   "id": "ace88549",
   "metadata": {
    "papermill": {
     "duration": 0.150187,
     "end_time": "2024-08-16T15:44:23.945927",
     "exception": false,
     "start_time": "2024-08-16T15:44:23.795740",
     "status": "completed"
    },
    "tags": []
   },
   "source": [
    "## Setting up a linear model"
   ]
  },
  {
   "cell_type": "markdown",
   "id": "32d0db3d",
   "metadata": {
    "papermill": {
     "duration": 0.151422,
     "end_time": "2024-08-16T15:44:24.249139",
     "exception": false,
     "start_time": "2024-08-16T15:44:24.097717",
     "status": "completed"
    },
    "tags": []
   },
   "source": [
    "Now that we've got a matrix of independent variables and a dependent variable vector, we can work on calculating our predictions and our loss. In this section, we're going to manually do a single step of calculating predictions and loss for every row of our data.\n",
    "\n",
    "Our first model will be a simple linear model. We'll need a coefficient for each column in `t_indep`. We'll pick random numbers in the range `(-0.5,0.5)`, and set our manual seed so that my explanations in the prose in this notebook will be consistent with what you see when you run it."
   ]
  },
  {
   "cell_type": "code",
   "execution_count": 19,
   "id": "ac74a811",
   "metadata": {
    "execution": {
     "iopub.execute_input": "2024-08-16T15:44:24.547300Z",
     "iopub.status.busy": "2024-08-16T15:44:24.547013Z",
     "iopub.status.idle": "2024-08-16T15:44:24.562747Z",
     "shell.execute_reply": "2024-08-16T15:44:24.562047Z"
    },
    "papermill": {
     "duration": 0.16469,
     "end_time": "2024-08-16T15:44:24.564594",
     "exception": false,
     "start_time": "2024-08-16T15:44:24.399904",
     "status": "completed"
    },
    "tags": []
   },
   "outputs": [
    {
     "data": {
      "text/plain": [
       "tensor([-0.4629,  0.1386,  0.2409, -0.2262, -0.2632, -0.3147,  0.4876,  0.3136,  0.2799, -0.4392,  0.2103,  0.3625])"
      ]
     },
     "execution_count": 19,
     "metadata": {},
     "output_type": "execute_result"
    }
   ],
   "source": [
    "torch.manual_seed(442)\n",
    "\n",
    "n_coeff = t_indep.shape[1]\n",
    "coeffs = torch.rand(n_coeff)-0.5\n",
    "coeffs"
   ]
  },
  {
   "cell_type": "markdown",
   "id": "632b75d5",
   "metadata": {
    "papermill": {
     "duration": 0.157908,
     "end_time": "2024-08-16T15:44:24.876138",
     "exception": false,
     "start_time": "2024-08-16T15:44:24.718230",
     "status": "completed"
    },
    "tags": []
   },
   "source": [
    "Our predictions will be calculated by multiplying each row by the coefficients, and adding them up. One interesting point here is that we don't need a separate constant term (also known as a \"bias\" or \"intercept\" term), or a column of all `1`s to give the same effect has having a constant term. That's because our dummy variables already cover the entire dataset -- e.g. there's a column for \"male\" and a column for \"female\", and everyone in the dataset is in exactly one of these; therefore, we don't need a separate intercept term to cover rows that aren't otherwise part of a column.\n",
    "\n",
    "Here's what the multiplication looks like:"
   ]
  },
  {
   "cell_type": "code",
   "execution_count": 20,
   "id": "4c149d21",
   "metadata": {
    "execution": {
     "iopub.execute_input": "2024-08-16T15:44:25.184168Z",
     "iopub.status.busy": "2024-08-16T15:44:25.183301Z",
     "iopub.status.idle": "2024-08-16T15:44:25.191171Z",
     "shell.execute_reply": "2024-08-16T15:44:25.190410Z"
    },
    "papermill": {
     "duration": 0.163439,
     "end_time": "2024-08-16T15:44:25.193203",
     "exception": false,
     "start_time": "2024-08-16T15:44:25.029764",
     "status": "completed"
    },
    "tags": []
   },
   "outputs": [
    {
     "data": {
      "text/plain": [
       "tensor([[-10.1838,   0.1386,   0.0000,  -0.4772,  -0.2632,  -0.0000,   0.0000,   0.0000,   0.2799,  -0.0000,   0.0000,   0.3625],\n",
       "        [-17.5902,   0.1386,   0.0000,  -0.9681,  -0.0000,  -0.3147,   0.4876,   0.0000,   0.0000,  -0.4392,   0.0000,   0.0000],\n",
       "        [-12.0354,   0.0000,   0.0000,  -0.4950,  -0.0000,  -0.3147,   0.0000,   0.0000,   0.2799,  -0.0000,   0.0000,   0.3625],\n",
       "        [-16.2015,   0.1386,   0.0000,  -0.9025,  -0.0000,  -0.3147,   0.4876,   0.0000,   0.0000,  -0.0000,   0.0000,   0.3625],\n",
       "        [-16.2015,   0.0000,   0.0000,  -0.4982,  -0.2632,  -0.0000,   0.0000,   0.0000,   0.2799,  -0.0000,   0.0000,   0.3625],\n",
       "        [-11.1096,   0.0000,   0.0000,  -0.5081,  -0.2632,  -0.0000,   0.0000,   0.0000,   0.2799,  -0.0000,   0.2103,   0.0000],\n",
       "        [-24.9966,   0.0000,   0.0000,  -0.8973,  -0.2632,  -0.0000,   0.4876,   0.0000,   0.0000,  -0.0000,   0.0000,   0.3625],\n",
       "        ...,\n",
       "        [-11.5725,   0.0000,   0.0000,  -0.4717,  -0.2632,  -0.0000,   0.0000,   0.0000,   0.2799,  -0.0000,   0.0000,   0.3625],\n",
       "        [-18.0531,   0.0000,   1.2045,  -0.7701,  -0.0000,  -0.3147,   0.0000,   0.0000,   0.2799,  -0.0000,   0.2103,   0.0000],\n",
       "        [-12.4983,   0.0000,   0.0000,  -0.5968,  -0.2632,  -0.0000,   0.0000,   0.3136,   0.0000,  -0.0000,   0.0000,   0.3625],\n",
       "        [ -8.7951,   0.0000,   0.0000,  -0.7766,  -0.0000,  -0.3147,   0.4876,   0.0000,   0.0000,  -0.0000,   0.0000,   0.3625],\n",
       "        [-11.1096,   0.1386,   0.4818,  -0.7229,  -0.0000,  -0.3147,   0.0000,   0.0000,   0.2799,  -0.0000,   0.0000,   0.3625],\n",
       "        [-12.0354,   0.0000,   0.0000,  -0.7766,  -0.2632,  -0.0000,   0.4876,   0.0000,   0.0000,  -0.4392,   0.0000,   0.0000],\n",
       "        [-14.8128,   0.0000,   0.0000,  -0.4905,  -0.2632,  -0.0000,   0.0000,   0.0000,   0.2799,  -0.0000,   0.2103,   0.0000]])"
      ]
     },
     "execution_count": 20,
     "metadata": {},
     "output_type": "execute_result"
    }
   ],
   "source": [
    "t_indep*coeffs"
   ]
  },
  {
   "cell_type": "markdown",
   "id": "df1159e2",
   "metadata": {
    "papermill": {
     "duration": 0.157735,
     "end_time": "2024-08-16T15:44:25.502454",
     "exception": false,
     "start_time": "2024-08-16T15:44:25.344719",
     "status": "completed"
    },
    "tags": []
   },
   "source": [
    "We can see we've got a problem here. The sums of each row will be dominated by the first column, which is `Age`, since that's bigger on average than all the others.\n",
    "\n",
    "Let's make all the columns contain numbers from `0` to `1`, by dividing each column by its `max()`:"
   ]
  },
  {
   "cell_type": "code",
   "execution_count": 21,
   "id": "9a9aadcf",
   "metadata": {
    "execution": {
     "iopub.execute_input": "2024-08-16T15:44:25.804624Z",
     "iopub.status.busy": "2024-08-16T15:44:25.804296Z",
     "iopub.status.idle": "2024-08-16T15:44:25.811070Z",
     "shell.execute_reply": "2024-08-16T15:44:25.810272Z"
    },
    "papermill": {
     "duration": 0.161725,
     "end_time": "2024-08-16T15:44:25.813021",
     "exception": false,
     "start_time": "2024-08-16T15:44:25.651296",
     "status": "completed"
    },
    "tags": []
   },
   "outputs": [],
   "source": [
    "vals,indices = t_indep.max(dim=0)\n",
    "t_indep = t_indep / vals"
   ]
  },
  {
   "cell_type": "markdown",
   "id": "c129b9de",
   "metadata": {
    "papermill": {
     "duration": 0.166363,
     "end_time": "2024-08-16T15:44:26.138286",
     "exception": false,
     "start_time": "2024-08-16T15:44:25.971923",
     "status": "completed"
    },
    "tags": []
   },
   "source": [
    "As we see, that removes the problem of one column dominating all the others:"
   ]
  },
  {
   "cell_type": "code",
   "execution_count": 22,
   "id": "2f938b39",
   "metadata": {
    "execution": {
     "iopub.execute_input": "2024-08-16T15:44:26.477438Z",
     "iopub.status.busy": "2024-08-16T15:44:26.476543Z",
     "iopub.status.idle": "2024-08-16T15:44:26.485275Z",
     "shell.execute_reply": "2024-08-16T15:44:26.484443Z"
    },
    "papermill": {
     "duration": 0.186493,
     "end_time": "2024-08-16T15:44:26.487322",
     "exception": false,
     "start_time": "2024-08-16T15:44:26.300829",
     "status": "completed"
    },
    "tags": []
   },
   "outputs": [
    {
     "data": {
      "text/plain": [
       "tensor([[-0.1273,  0.0173,  0.0000, -0.0765, -0.2632, -0.0000,  0.0000,  0.0000,  0.2799, -0.0000,  0.0000,  0.3625],\n",
       "        [-0.2199,  0.0173,  0.0000, -0.1551, -0.0000, -0.3147,  0.4876,  0.0000,  0.0000, -0.4392,  0.0000,  0.0000],\n",
       "        [-0.1504,  0.0000,  0.0000, -0.0793, -0.0000, -0.3147,  0.0000,  0.0000,  0.2799, -0.0000,  0.0000,  0.3625],\n",
       "        [-0.2025,  0.0173,  0.0000, -0.1446, -0.0000, -0.3147,  0.4876,  0.0000,  0.0000, -0.0000,  0.0000,  0.3625],\n",
       "        [-0.2025,  0.0000,  0.0000, -0.0798, -0.2632, -0.0000,  0.0000,  0.0000,  0.2799, -0.0000,  0.0000,  0.3625],\n",
       "        [-0.1389,  0.0000,  0.0000, -0.0814, -0.2632, -0.0000,  0.0000,  0.0000,  0.2799, -0.0000,  0.2103,  0.0000],\n",
       "        [-0.3125,  0.0000,  0.0000, -0.1438, -0.2632, -0.0000,  0.4876,  0.0000,  0.0000, -0.0000,  0.0000,  0.3625],\n",
       "        ...,\n",
       "        [-0.1447,  0.0000,  0.0000, -0.0756, -0.2632, -0.0000,  0.0000,  0.0000,  0.2799, -0.0000,  0.0000,  0.3625],\n",
       "        [-0.2257,  0.0000,  0.2008, -0.1234, -0.0000, -0.3147,  0.0000,  0.0000,  0.2799, -0.0000,  0.2103,  0.0000],\n",
       "        [-0.1562,  0.0000,  0.0000, -0.0956, -0.2632, -0.0000,  0.0000,  0.3136,  0.0000, -0.0000,  0.0000,  0.3625],\n",
       "        [-0.1099,  0.0000,  0.0000, -0.1244, -0.0000, -0.3147,  0.4876,  0.0000,  0.0000, -0.0000,  0.0000,  0.3625],\n",
       "        [-0.1389,  0.0173,  0.0803, -0.1158, -0.0000, -0.3147,  0.0000,  0.0000,  0.2799, -0.0000,  0.0000,  0.3625],\n",
       "        [-0.1504,  0.0000,  0.0000, -0.1244, -0.2632, -0.0000,  0.4876,  0.0000,  0.0000, -0.4392,  0.0000,  0.0000],\n",
       "        [-0.1852,  0.0000,  0.0000, -0.0786, -0.2632, -0.0000,  0.0000,  0.0000,  0.2799, -0.0000,  0.2103,  0.0000]])"
      ]
     },
     "execution_count": 22,
     "metadata": {},
     "output_type": "execute_result"
    }
   ],
   "source": [
    "t_indep*coeffs"
   ]
  },
  {
   "cell_type": "markdown",
   "id": "ebe2679d",
   "metadata": {
    "papermill": {
     "duration": 0.151786,
     "end_time": "2024-08-16T15:44:26.786242",
     "exception": false,
     "start_time": "2024-08-16T15:44:26.634456",
     "status": "completed"
    },
    "tags": []
   },
   "source": [
    "One thing you hopefully noticed is how amazingly cool this line of code is:\n",
    "\n",
    "    t_indep = t_indep / vals\n",
    "\n",
    "That is dividing a matrix by a vector -- what on earth does that mean?!? The trick here is that we're taking advantage of a technique in numpy and PyTorch (and many other languages, going all the way back to APL) called [broadcasting](https://numpy.org/doc/stable/user/basics.broadcasting.html). In short, this acts as if there's a separate copy of the vector for every row of the matrix, so it divides each row of the matrix by the vector. In practice, it doesn't actually make any copies, and does the whole thing in a highly optimized way, taking full advantage of modern CPUs (or, indeed, GPUs, if we're using them). Broadcasting is one of the most important techniques for making your code concise, maintainable, and fast, so it's well worth studying and practicing.\n",
    "\n",
    "We can now create predictions from our linear model, by adding up the rows of the product:"
   ]
  },
  {
   "cell_type": "code",
   "execution_count": 23,
   "id": "628d733c",
   "metadata": {
    "execution": {
     "iopub.execute_input": "2024-08-16T15:44:27.093241Z",
     "iopub.status.busy": "2024-08-16T15:44:27.092580Z",
     "iopub.status.idle": "2024-08-16T15:44:27.099758Z",
     "shell.execute_reply": "2024-08-16T15:44:27.098997Z"
    },
    "papermill": {
     "duration": 0.162225,
     "end_time": "2024-08-16T15:44:27.101773",
     "exception": false,
     "start_time": "2024-08-16T15:44:26.939548",
     "status": "completed"
    },
    "tags": []
   },
   "outputs": [],
   "source": [
    "preds = (t_indep*coeffs).sum(axis=1)"
   ]
  },
  {
   "cell_type": "markdown",
   "id": "5b8404fe",
   "metadata": {
    "papermill": {
     "duration": 0.155488,
     "end_time": "2024-08-16T15:44:27.408004",
     "exception": false,
     "start_time": "2024-08-16T15:44:27.252516",
     "status": "completed"
    },
    "tags": []
   },
   "source": [
    "Let's take a look at the first few:"
   ]
  },
  {
   "cell_type": "code",
   "execution_count": 24,
   "id": "fd8b155a",
   "metadata": {
    "execution": {
     "iopub.execute_input": "2024-08-16T15:44:27.708287Z",
     "iopub.status.busy": "2024-08-16T15:44:27.707641Z",
     "iopub.status.idle": "2024-08-16T15:44:27.715126Z",
     "shell.execute_reply": "2024-08-16T15:44:27.714309Z"
    },
    "papermill": {
     "duration": 0.162463,
     "end_time": "2024-08-16T15:44:27.717175",
     "exception": false,
     "start_time": "2024-08-16T15:44:27.554712",
     "status": "completed"
    },
    "tags": []
   },
   "outputs": [
    {
     "data": {
      "text/plain": [
       "tensor([ 0.1927, -0.6239,  0.0979,  0.2056,  0.0968,  0.0066,  0.1306,  0.3476,  0.1613, -0.6285])"
      ]
     },
     "execution_count": 24,
     "metadata": {},
     "output_type": "execute_result"
    }
   ],
   "source": [
    "preds[:10]"
   ]
  },
  {
   "cell_type": "markdown",
   "id": "b48ff8b1",
   "metadata": {
    "papermill": {
     "duration": 0.149797,
     "end_time": "2024-08-16T15:44:28.036410",
     "exception": false,
     "start_time": "2024-08-16T15:44:27.886613",
     "status": "completed"
    },
    "tags": []
   },
   "source": [
    "Of course, these predictions aren't going to be any use, since our coefficients are random -- they're just a starting point for our gradient descent process.\n",
    "\n",
    "To do gradient descent, we need a loss function. Taking the average error of the rows (i.e. the absolute value of the difference between the prediction and the dependent) is generally a reasonable approach:"
   ]
  },
  {
   "cell_type": "code",
   "execution_count": 25,
   "id": "5b2120aa",
   "metadata": {
    "execution": {
     "iopub.execute_input": "2024-08-16T15:44:28.345331Z",
     "iopub.status.busy": "2024-08-16T15:44:28.345020Z",
     "iopub.status.idle": "2024-08-16T15:44:28.356234Z",
     "shell.execute_reply": "2024-08-16T15:44:28.355464Z"
    },
    "papermill": {
     "duration": 0.167851,
     "end_time": "2024-08-16T15:44:28.358333",
     "exception": false,
     "start_time": "2024-08-16T15:44:28.190482",
     "status": "completed"
    },
    "tags": []
   },
   "outputs": [
    {
     "data": {
      "text/plain": [
       "tensor(0.5382)"
      ]
     },
     "execution_count": 25,
     "metadata": {},
     "output_type": "execute_result"
    }
   ],
   "source": [
    "loss = torch.abs(preds-t_dep).mean()\n",
    "loss"
   ]
  },
  {
   "cell_type": "markdown",
   "id": "18753c79",
   "metadata": {
    "papermill": {
     "duration": 0.14537,
     "end_time": "2024-08-16T15:44:28.653156",
     "exception": false,
     "start_time": "2024-08-16T15:44:28.507786",
     "status": "completed"
    },
    "tags": []
   },
   "source": [
    "Now that we've tested out a way of calculating predictions, and loss, let's pop them into functions to make life easier:"
   ]
  },
  {
   "cell_type": "code",
   "execution_count": 26,
   "id": "1d14af73",
   "metadata": {
    "execution": {
     "iopub.execute_input": "2024-08-16T15:44:28.955587Z",
     "iopub.status.busy": "2024-08-16T15:44:28.954859Z",
     "iopub.status.idle": "2024-08-16T15:44:28.960112Z",
     "shell.execute_reply": "2024-08-16T15:44:28.959334Z"
    },
    "papermill": {
     "duration": 0.158992,
     "end_time": "2024-08-16T15:44:28.961978",
     "exception": false,
     "start_time": "2024-08-16T15:44:28.802986",
     "status": "completed"
    },
    "tags": []
   },
   "outputs": [],
   "source": [
    "def calc_preds(coeffs, indeps): return (indeps*coeffs).sum(axis=1)\n",
    "def calc_loss(coeffs, indeps, deps): return torch.abs(calc_preds(coeffs, indeps)-deps).mean()"
   ]
  },
  {
   "cell_type": "markdown",
   "id": "cc8df6e3",
   "metadata": {
    "papermill": {
     "duration": 0.150676,
     "end_time": "2024-08-16T15:44:29.259468",
     "exception": false,
     "start_time": "2024-08-16T15:44:29.108792",
     "status": "completed"
    },
    "tags": []
   },
   "source": [
    "## Doing a gradient descent step"
   ]
  },
  {
   "cell_type": "markdown",
   "id": "3cc68c16",
   "metadata": {
    "papermill": {
     "duration": 0.150313,
     "end_time": "2024-08-16T15:44:29.565509",
     "exception": false,
     "start_time": "2024-08-16T15:44:29.415196",
     "status": "completed"
    },
    "tags": []
   },
   "source": [
    "In this section, we're going to do a single \"epoch\" of gradient descent manually. The only thing we're going to automate is calculating gradients, because let's face it that's pretty tedious and entirely pointless to do by hand! To get PyTorch to calculate gradients, we'll need to call `requires_grad_()` on our `coeffs` (if you're not sure why, review the previous notebook, [How does a neural net really work?](https://www.kaggle.com/code/jhoward/how-does-a-neural-net-really-work), before continuing):"
   ]
  },
  {
   "cell_type": "code",
   "execution_count": 27,
   "id": "1c62d125",
   "metadata": {
    "execution": {
     "iopub.execute_input": "2024-08-16T15:44:29.870769Z",
     "iopub.status.busy": "2024-08-16T15:44:29.870484Z",
     "iopub.status.idle": "2024-08-16T15:44:29.877057Z",
     "shell.execute_reply": "2024-08-16T15:44:29.876300Z"
    },
    "papermill": {
     "duration": 0.160247,
     "end_time": "2024-08-16T15:44:29.879070",
     "exception": false,
     "start_time": "2024-08-16T15:44:29.718823",
     "status": "completed"
    },
    "tags": []
   },
   "outputs": [
    {
     "data": {
      "text/plain": [
       "tensor([-0.4629,  0.1386,  0.2409, -0.2262, -0.2632, -0.3147,  0.4876,  0.3136,  0.2799, -0.4392,  0.2103,  0.3625], requires_grad=True)"
      ]
     },
     "execution_count": 27,
     "metadata": {},
     "output_type": "execute_result"
    }
   ],
   "source": [
    "coeffs.requires_grad_()"
   ]
  },
  {
   "cell_type": "markdown",
   "id": "3a2ab3d4",
   "metadata": {
    "papermill": {
     "duration": 0.148203,
     "end_time": "2024-08-16T15:44:30.175345",
     "exception": false,
     "start_time": "2024-08-16T15:44:30.027142",
     "status": "completed"
    },
    "tags": []
   },
   "source": [
    "Now when we calculate our loss, PyTorch will keep track of all the steps, so we'll be able to get the gradients afterwards:"
   ]
  },
  {
   "cell_type": "code",
   "execution_count": 28,
   "id": "0da59a59",
   "metadata": {
    "execution": {
     "iopub.execute_input": "2024-08-16T15:44:30.480853Z",
     "iopub.status.busy": "2024-08-16T15:44:30.480281Z",
     "iopub.status.idle": "2024-08-16T15:44:30.488932Z",
     "shell.execute_reply": "2024-08-16T15:44:30.488115Z"
    },
    "papermill": {
     "duration": 0.163091,
     "end_time": "2024-08-16T15:44:30.491067",
     "exception": false,
     "start_time": "2024-08-16T15:44:30.327976",
     "status": "completed"
    },
    "tags": []
   },
   "outputs": [
    {
     "data": {
      "text/plain": [
       "tensor(0.5382, grad_fn=<MeanBackward0>)"
      ]
     },
     "execution_count": 28,
     "metadata": {},
     "output_type": "execute_result"
    }
   ],
   "source": [
    "loss = calc_loss(coeffs, t_indep, t_dep)\n",
    "loss"
   ]
  },
  {
   "cell_type": "markdown",
   "id": "5be04fbc",
   "metadata": {
    "papermill": {
     "duration": 0.150523,
     "end_time": "2024-08-16T15:44:30.791248",
     "exception": false,
     "start_time": "2024-08-16T15:44:30.640725",
     "status": "completed"
    },
    "tags": []
   },
   "source": [
    "Use `backward()` to ask PyTorch to calculate gradients now:"
   ]
  },
  {
   "cell_type": "code",
   "execution_count": 29,
   "id": "42d1922b",
   "metadata": {
    "execution": {
     "iopub.execute_input": "2024-08-16T15:44:31.095220Z",
     "iopub.status.busy": "2024-08-16T15:44:31.094905Z",
     "iopub.status.idle": "2024-08-16T15:44:31.157568Z",
     "shell.execute_reply": "2024-08-16T15:44:31.156726Z"
    },
    "papermill": {
     "duration": 0.218019,
     "end_time": "2024-08-16T15:44:31.159893",
     "exception": false,
     "start_time": "2024-08-16T15:44:30.941874",
     "status": "completed"
    },
    "tags": []
   },
   "outputs": [],
   "source": [
    "loss.backward()"
   ]
  },
  {
   "cell_type": "markdown",
   "id": "af5f5a1f",
   "metadata": {
    "papermill": {
     "duration": 0.153425,
     "end_time": "2024-08-16T15:44:31.465385",
     "exception": false,
     "start_time": "2024-08-16T15:44:31.311960",
     "status": "completed"
    },
    "tags": []
   },
   "source": [
    "Let's see what they look like:"
   ]
  },
  {
   "cell_type": "code",
   "execution_count": 30,
   "id": "62fcad9e",
   "metadata": {
    "execution": {
     "iopub.execute_input": "2024-08-16T15:44:31.768265Z",
     "iopub.status.busy": "2024-08-16T15:44:31.767992Z",
     "iopub.status.idle": "2024-08-16T15:44:31.774598Z",
     "shell.execute_reply": "2024-08-16T15:44:31.773866Z"
    },
    "papermill": {
     "duration": 0.160301,
     "end_time": "2024-08-16T15:44:31.776651",
     "exception": false,
     "start_time": "2024-08-16T15:44:31.616350",
     "status": "completed"
    },
    "tags": []
   },
   "outputs": [
    {
     "data": {
      "text/plain": [
       "tensor([-0.0106,  0.0129, -0.0041, -0.0484,  0.2099, -0.2132, -0.1212, -0.0247,  0.1425, -0.1886, -0.0191,  0.2043])"
      ]
     },
     "execution_count": 30,
     "metadata": {},
     "output_type": "execute_result"
    }
   ],
   "source": [
    "coeffs.grad"
   ]
  },
  {
   "cell_type": "markdown",
   "id": "ef6caaa9",
   "metadata": {
    "papermill": {
     "duration": 0.156311,
     "end_time": "2024-08-16T15:44:32.085371",
     "exception": false,
     "start_time": "2024-08-16T15:44:31.929060",
     "status": "completed"
    },
    "tags": []
   },
   "source": [
    "Note that each time we call `backward`, the gradients are actually *added* to whatever is in the `.grad` attribute. Let's try running the above steps again:"
   ]
  },
  {
   "cell_type": "code",
   "execution_count": 31,
   "id": "5836af6b",
   "metadata": {
    "execution": {
     "iopub.execute_input": "2024-08-16T15:44:32.403746Z",
     "iopub.status.busy": "2024-08-16T15:44:32.403483Z",
     "iopub.status.idle": "2024-08-16T15:44:32.413712Z",
     "shell.execute_reply": "2024-08-16T15:44:32.412711Z"
    },
    "papermill": {
     "duration": 0.169422,
     "end_time": "2024-08-16T15:44:32.415598",
     "exception": false,
     "start_time": "2024-08-16T15:44:32.246176",
     "status": "completed"
    },
    "tags": []
   },
   "outputs": [
    {
     "data": {
      "text/plain": [
       "tensor([-0.0212,  0.0258, -0.0082, -0.0969,  0.4198, -0.4265, -0.2424, -0.0494,  0.2851, -0.3771, -0.0382,  0.4085])"
      ]
     },
     "execution_count": 31,
     "metadata": {},
     "output_type": "execute_result"
    }
   ],
   "source": [
    "loss = calc_loss(coeffs, t_indep, t_dep)\n",
    "loss.backward()\n",
    "coeffs.grad"
   ]
  },
  {
   "cell_type": "markdown",
   "id": "5fa4a938",
   "metadata": {
    "papermill": {
     "duration": 0.152229,
     "end_time": "2024-08-16T15:44:32.723119",
     "exception": false,
     "start_time": "2024-08-16T15:44:32.570890",
     "status": "completed"
    },
    "tags": []
   },
   "source": [
    "As you see, our `.grad` values are have doubled. That's because it added the gradients a second time. For this reason, after we use the gradients to do a gradient descent step, we need to set them back to zero.\n",
    "\n",
    "We can now do one gradient descent step, and check that our loss decreases:"
   ]
  },
  {
   "cell_type": "code",
   "execution_count": 32,
   "id": "04b37288",
   "metadata": {
    "execution": {
     "iopub.execute_input": "2024-08-16T15:44:33.030099Z",
     "iopub.status.busy": "2024-08-16T15:44:33.029511Z",
     "iopub.status.idle": "2024-08-16T15:44:33.036916Z",
     "shell.execute_reply": "2024-08-16T15:44:33.035965Z"
    },
    "papermill": {
     "duration": 0.16399,
     "end_time": "2024-08-16T15:44:33.038978",
     "exception": false,
     "start_time": "2024-08-16T15:44:32.874988",
     "status": "completed"
    },
    "tags": []
   },
   "outputs": [
    {
     "name": "stdout",
     "output_type": "stream",
     "text": [
      "tensor(0.4945)\n"
     ]
    }
   ],
   "source": [
    "loss = calc_loss(coeffs, t_indep, t_dep)\n",
    "loss.backward()\n",
    "with torch.no_grad():\n",
    "    coeffs.sub_(coeffs.grad * 0.1)\n",
    "    coeffs.grad.zero_()\n",
    "    print(calc_loss(coeffs, t_indep, t_dep))"
   ]
  },
  {
   "cell_type": "markdown",
   "id": "499cf09b",
   "metadata": {
    "papermill": {
     "duration": 0.156186,
     "end_time": "2024-08-16T15:44:33.349092",
     "exception": false,
     "start_time": "2024-08-16T15:44:33.192906",
     "status": "completed"
    },
    "tags": []
   },
   "source": [
    "Note that `a.sub_(b)` subtracts `b` from `a` in-place. In PyTorch, any method that ends in `_` changes its object in-place. Similarly, `a.zero_()` sets all elements of a tensor to zero."
   ]
  },
  {
   "cell_type": "markdown",
   "id": "b90b2f96",
   "metadata": {
    "papermill": {
     "duration": 0.155763,
     "end_time": "2024-08-16T15:44:33.658683",
     "exception": false,
     "start_time": "2024-08-16T15:44:33.502920",
     "status": "completed"
    },
    "tags": []
   },
   "source": [
    "## Training the linear model"
   ]
  },
  {
   "cell_type": "markdown",
   "id": "930fb0c0",
   "metadata": {
    "papermill": {
     "duration": 0.150533,
     "end_time": "2024-08-16T15:44:33.965268",
     "exception": false,
     "start_time": "2024-08-16T15:44:33.814735",
     "status": "completed"
    },
    "tags": []
   },
   "source": [
    "Before we begin training our model, we'll need to ensure that we hold out a validation set for calculating our metrics (for details on this, see \"[Getting started with NLP for absolute beginners](https://www.kaggle.com/code/jhoward/getting-started-with-nlp-for-absolute-beginners#Test-and-validation-sets)\".\n",
    "\n",
    "There's lots of different ways we can do this. In the next notebook we'll be comparing our approach here to what the fastai library does, so we'll want to ensure we split the data in the same way. So let's use `RandomSplitter` to get indices that will split our data into training and validation sets:"
   ]
  },
  {
   "cell_type": "code",
   "execution_count": 33,
   "id": "e4f843b7",
   "metadata": {
    "execution": {
     "iopub.execute_input": "2024-08-16T15:44:34.283131Z",
     "iopub.status.busy": "2024-08-16T15:44:34.282830Z",
     "iopub.status.idle": "2024-08-16T15:44:35.541907Z",
     "shell.execute_reply": "2024-08-16T15:44:35.541284Z"
    },
    "papermill": {
     "duration": 1.422093,
     "end_time": "2024-08-16T15:44:35.544072",
     "exception": false,
     "start_time": "2024-08-16T15:44:34.121979",
     "status": "completed"
    },
    "tags": []
   },
   "outputs": [],
   "source": [
    "from fastai.data.transforms import RandomSplitter\n",
    "trn_split,val_split=RandomSplitter(seed=42)(df)"
   ]
  },
  {
   "cell_type": "markdown",
   "id": "68429287",
   "metadata": {
    "papermill": {
     "duration": 0.152427,
     "end_time": "2024-08-16T15:44:35.848571",
     "exception": false,
     "start_time": "2024-08-16T15:44:35.696144",
     "status": "completed"
    },
    "tags": []
   },
   "source": [
    "Now we can apply those indicies to our independent and dependent variables:"
   ]
  },
  {
   "cell_type": "code",
   "execution_count": 34,
   "id": "619bfc00",
   "metadata": {
    "execution": {
     "iopub.execute_input": "2024-08-16T15:44:36.157267Z",
     "iopub.status.busy": "2024-08-16T15:44:36.156940Z",
     "iopub.status.idle": "2024-08-16T15:44:36.172236Z",
     "shell.execute_reply": "2024-08-16T15:44:36.171262Z"
    },
    "papermill": {
     "duration": 0.172533,
     "end_time": "2024-08-16T15:44:36.174234",
     "exception": false,
     "start_time": "2024-08-16T15:44:36.001701",
     "status": "completed"
    },
    "tags": []
   },
   "outputs": [
    {
     "data": {
      "text/plain": [
       "(713, 178)"
      ]
     },
     "execution_count": 34,
     "metadata": {},
     "output_type": "execute_result"
    }
   ],
   "source": [
    "trn_indep,val_indep = t_indep[trn_split],t_indep[val_split]\n",
    "trn_dep,val_dep = t_dep[trn_split],t_dep[val_split]\n",
    "len(trn_indep),len(val_indep)"
   ]
  },
  {
   "cell_type": "markdown",
   "id": "cbbdb019",
   "metadata": {
    "papermill": {
     "duration": 0.155771,
     "end_time": "2024-08-16T15:44:36.496849",
     "exception": false,
     "start_time": "2024-08-16T15:44:36.341078",
     "status": "completed"
    },
    "tags": []
   },
   "source": [
    "We'll create functions for the three things we did manually above: updating `coeffs`, doing one full gradient descent step, and initilising `coeffs` to random numbers:"
   ]
  },
  {
   "cell_type": "code",
   "execution_count": 35,
   "id": "63e42c68",
   "metadata": {
    "execution": {
     "iopub.execute_input": "2024-08-16T15:44:36.805322Z",
     "iopub.status.busy": "2024-08-16T15:44:36.805027Z",
     "iopub.status.idle": "2024-08-16T15:44:36.809608Z",
     "shell.execute_reply": "2024-08-16T15:44:36.808833Z"
    },
    "papermill": {
     "duration": 0.161585,
     "end_time": "2024-08-16T15:44:36.811622",
     "exception": false,
     "start_time": "2024-08-16T15:44:36.650037",
     "status": "completed"
    },
    "tags": []
   },
   "outputs": [],
   "source": [
    "def update_coeffs(coeffs, lr):\n",
    "    coeffs.sub_(coeffs.grad * lr)\n",
    "    coeffs.grad.zero_()"
   ]
  },
  {
   "cell_type": "code",
   "execution_count": 36,
   "id": "01b08c09",
   "metadata": {
    "execution": {
     "iopub.execute_input": "2024-08-16T15:44:37.123966Z",
     "iopub.status.busy": "2024-08-16T15:44:37.123656Z",
     "iopub.status.idle": "2024-08-16T15:44:37.128964Z",
     "shell.execute_reply": "2024-08-16T15:44:37.128124Z"
    },
    "papermill": {
     "duration": 0.161863,
     "end_time": "2024-08-16T15:44:37.130983",
     "exception": false,
     "start_time": "2024-08-16T15:44:36.969120",
     "status": "completed"
    },
    "tags": []
   },
   "outputs": [],
   "source": [
    "def one_epoch(coeffs, lr):\n",
    "    loss = calc_loss(coeffs, trn_indep, trn_dep)\n",
    "    loss.backward()\n",
    "    with torch.no_grad(): update_coeffs(coeffs, lr)\n",
    "    print(f\"{loss:.3f}\", end=\"; \")"
   ]
  },
  {
   "cell_type": "code",
   "execution_count": 37,
   "id": "27c5f309",
   "metadata": {
    "execution": {
     "iopub.execute_input": "2024-08-16T15:44:37.446051Z",
     "iopub.status.busy": "2024-08-16T15:44:37.445788Z",
     "iopub.status.idle": "2024-08-16T15:44:37.450492Z",
     "shell.execute_reply": "2024-08-16T15:44:37.449700Z"
    },
    "papermill": {
     "duration": 0.163638,
     "end_time": "2024-08-16T15:44:37.452507",
     "exception": false,
     "start_time": "2024-08-16T15:44:37.288869",
     "status": "completed"
    },
    "tags": []
   },
   "outputs": [],
   "source": [
    "def init_coeffs(): return (torch.rand(n_coeff)-0.5).requires_grad_()"
   ]
  },
  {
   "cell_type": "markdown",
   "id": "d0633cac",
   "metadata": {
    "papermill": {
     "duration": 0.156984,
     "end_time": "2024-08-16T15:44:37.765968",
     "exception": false,
     "start_time": "2024-08-16T15:44:37.608984",
     "status": "completed"
    },
    "tags": []
   },
   "source": [
    "We can now use these functions to train our model:"
   ]
  },
  {
   "cell_type": "code",
   "execution_count": 38,
   "id": "a2c3a47b",
   "metadata": {
    "execution": {
     "iopub.execute_input": "2024-08-16T15:44:38.083189Z",
     "iopub.status.busy": "2024-08-16T15:44:38.082919Z",
     "iopub.status.idle": "2024-08-16T15:44:38.088237Z",
     "shell.execute_reply": "2024-08-16T15:44:38.087448Z"
    },
    "papermill": {
     "duration": 0.160552,
     "end_time": "2024-08-16T15:44:38.090372",
     "exception": false,
     "start_time": "2024-08-16T15:44:37.929820",
     "status": "completed"
    },
    "tags": []
   },
   "outputs": [],
   "source": [
    "def train_model(epochs=30, lr=0.01):\n",
    "    torch.manual_seed(442)\n",
    "    coeffs = init_coeffs()\n",
    "    for i in range(epochs): one_epoch(coeffs, lr=lr)\n",
    "    return coeffs"
   ]
  },
  {
   "cell_type": "markdown",
   "id": "80ce79fc",
   "metadata": {
    "papermill": {
     "duration": 0.153052,
     "end_time": "2024-08-16T15:44:38.394774",
     "exception": false,
     "start_time": "2024-08-16T15:44:38.241722",
     "status": "completed"
    },
    "tags": []
   },
   "source": [
    "Let's try it. Our loss will print at the end of every step, so we hope we'll see it going down:"
   ]
  },
  {
   "cell_type": "code",
   "execution_count": 39,
   "id": "8c6a4fe7",
   "metadata": {
    "execution": {
     "iopub.execute_input": "2024-08-16T15:44:38.700070Z",
     "iopub.status.busy": "2024-08-16T15:44:38.699799Z",
     "iopub.status.idle": "2024-08-16T15:44:38.712680Z",
     "shell.execute_reply": "2024-08-16T15:44:38.711836Z"
    },
    "papermill": {
     "duration": 0.169153,
     "end_time": "2024-08-16T15:44:38.714734",
     "exception": false,
     "start_time": "2024-08-16T15:44:38.545581",
     "status": "completed"
    },
    "tags": []
   },
   "outputs": [
    {
     "name": "stdout",
     "output_type": "stream",
     "text": [
      "0.536; 0.502; 0.477; 0.454; 0.431; 0.409; 0.388; 0.367; 0.349; 0.336; 0.330; 0.326; 0.329; 0.304; 0.314; 0.296; 0.300; 0.289; "
     ]
    }
   ],
   "source": [
    "coeffs = train_model(18, lr=0.2)"
   ]
  },
  {
   "cell_type": "markdown",
   "id": "ec4cddab",
   "metadata": {
    "papermill": {
     "duration": 0.156049,
     "end_time": "2024-08-16T15:44:39.023383",
     "exception": false,
     "start_time": "2024-08-16T15:44:38.867334",
     "status": "completed"
    },
    "tags": []
   },
   "source": [
    "It does!\n",
    "\n",
    "Let's take a look at the coefficients for each column:"
   ]
  },
  {
   "cell_type": "code",
   "execution_count": 40,
   "id": "150beef1",
   "metadata": {
    "execution": {
     "iopub.execute_input": "2024-08-16T15:44:39.350347Z",
     "iopub.status.busy": "2024-08-16T15:44:39.350042Z",
     "iopub.status.idle": "2024-08-16T15:44:39.360375Z",
     "shell.execute_reply": "2024-08-16T15:44:39.359616Z"
    },
    "papermill": {
     "duration": 0.180086,
     "end_time": "2024-08-16T15:44:39.362720",
     "exception": false,
     "start_time": "2024-08-16T15:44:39.182634",
     "status": "completed"
    },
    "tags": []
   },
   "outputs": [
    {
     "data": {
      "text/plain": [
       "{'Age': tensor(-0.2694),\n",
       " 'SibSp': tensor(0.0901),\n",
       " 'Parch': tensor(0.2359),\n",
       " 'LogFare': tensor(0.0280),\n",
       " 'Sex_male': tensor(-0.3990),\n",
       " 'Sex_female': tensor(0.2345),\n",
       " 'Pclass_1': tensor(0.7232),\n",
       " 'Pclass_2': tensor(0.4112),\n",
       " 'Pclass_3': tensor(0.3601),\n",
       " 'Embarked_C': tensor(0.0955),\n",
       " 'Embarked_Q': tensor(0.2395),\n",
       " 'Embarked_S': tensor(0.2122)}"
      ]
     },
     "execution_count": 40,
     "metadata": {},
     "output_type": "execute_result"
    }
   ],
   "source": [
    "def show_coeffs(): return dict(zip(indep_cols, coeffs.requires_grad_(False)))\n",
    "show_coeffs()"
   ]
  },
  {
   "cell_type": "markdown",
   "id": "db4a3812",
   "metadata": {
    "papermill": {
     "duration": 0.169887,
     "end_time": "2024-08-16T15:44:39.702383",
     "exception": false,
     "start_time": "2024-08-16T15:44:39.532496",
     "status": "completed"
    },
    "tags": []
   },
   "source": [
    "## Measuring accuracy"
   ]
  },
  {
   "cell_type": "markdown",
   "id": "3b3b2248",
   "metadata": {
    "papermill": {
     "duration": 0.170419,
     "end_time": "2024-08-16T15:44:40.045384",
     "exception": false,
     "start_time": "2024-08-16T15:44:39.874965",
     "status": "completed"
    },
    "tags": []
   },
   "source": [
    "The Kaggle competition is not, however, scored by absolute error (which is our loss function). It's scored by *accuracy* -- the proportion of rows where we correctly predict survival. Let's see how accurate we were on the validation set. First, calculate the predictions:"
   ]
  },
  {
   "cell_type": "code",
   "execution_count": 41,
   "id": "e8cde61e",
   "metadata": {
    "execution": {
     "iopub.execute_input": "2024-08-16T15:44:40.377052Z",
     "iopub.status.busy": "2024-08-16T15:44:40.376469Z",
     "iopub.status.idle": "2024-08-16T15:44:40.380930Z",
     "shell.execute_reply": "2024-08-16T15:44:40.380167Z"
    },
    "papermill": {
     "duration": 0.173498,
     "end_time": "2024-08-16T15:44:40.382968",
     "exception": false,
     "start_time": "2024-08-16T15:44:40.209470",
     "status": "completed"
    },
    "tags": []
   },
   "outputs": [],
   "source": [
    "preds = calc_preds(coeffs, val_indep)"
   ]
  },
  {
   "cell_type": "markdown",
   "id": "bfa7c6b6",
   "metadata": {
    "papermill": {
     "duration": 0.16633,
     "end_time": "2024-08-16T15:44:40.766738",
     "exception": false,
     "start_time": "2024-08-16T15:44:40.600408",
     "status": "completed"
    },
    "tags": []
   },
   "source": [
    "We'll assume that any passenger with a score of over `0.5` is predicted to survive. So that means we're correct for each row where `preds>0.5` is the same as the dependent variable:"
   ]
  },
  {
   "cell_type": "code",
   "execution_count": 42,
   "id": "71f6d1e5",
   "metadata": {
    "execution": {
     "iopub.execute_input": "2024-08-16T15:44:41.086616Z",
     "iopub.status.busy": "2024-08-16T15:44:41.086274Z",
     "iopub.status.idle": "2024-08-16T15:44:41.093318Z",
     "shell.execute_reply": "2024-08-16T15:44:41.092735Z"
    },
    "papermill": {
     "duration": 0.167689,
     "end_time": "2024-08-16T15:44:41.095394",
     "exception": false,
     "start_time": "2024-08-16T15:44:40.927705",
     "status": "completed"
    },
    "tags": []
   },
   "outputs": [
    {
     "data": {
      "text/plain": [
       "tensor([ True,  True,  True,  True,  True,  True,  True,  True,  True,  True, False, False, False,  True,  True, False])"
      ]
     },
     "execution_count": 42,
     "metadata": {},
     "output_type": "execute_result"
    }
   ],
   "source": [
    "results = val_dep.bool()==(preds>0.5)\n",
    "results[:16]"
   ]
  },
  {
   "cell_type": "markdown",
   "id": "20d80680",
   "metadata": {
    "papermill": {
     "duration": 0.165973,
     "end_time": "2024-08-16T15:44:41.423318",
     "exception": false,
     "start_time": "2024-08-16T15:44:41.257345",
     "status": "completed"
    },
    "tags": []
   },
   "source": [
    "Let's see what our average accuracy is:"
   ]
  },
  {
   "cell_type": "code",
   "execution_count": 43,
   "id": "ff597b45",
   "metadata": {
    "execution": {
     "iopub.execute_input": "2024-08-16T15:44:41.737517Z",
     "iopub.status.busy": "2024-08-16T15:44:41.737193Z",
     "iopub.status.idle": "2024-08-16T15:44:41.743827Z",
     "shell.execute_reply": "2024-08-16T15:44:41.743042Z"
    },
    "papermill": {
     "duration": 0.163933,
     "end_time": "2024-08-16T15:44:41.745728",
     "exception": false,
     "start_time": "2024-08-16T15:44:41.581795",
     "status": "completed"
    },
    "tags": []
   },
   "outputs": [
    {
     "data": {
      "text/plain": [
       "tensor(0.7865)"
      ]
     },
     "execution_count": 43,
     "metadata": {},
     "output_type": "execute_result"
    }
   ],
   "source": [
    "results.float().mean()"
   ]
  },
  {
   "cell_type": "markdown",
   "id": "4eff7e9b",
   "metadata": {
    "papermill": {
     "duration": 0.151876,
     "end_time": "2024-08-16T15:44:42.054583",
     "exception": false,
     "start_time": "2024-08-16T15:44:41.902707",
     "status": "completed"
    },
    "tags": []
   },
   "source": [
    "That's not a bad start at all! We'll create a function so we can calcuate the accuracy easy for other models we train:"
   ]
  },
  {
   "cell_type": "code",
   "execution_count": 44,
   "id": "5c0a97c9",
   "metadata": {
    "execution": {
     "iopub.execute_input": "2024-08-16T15:44:42.372681Z",
     "iopub.status.busy": "2024-08-16T15:44:42.372363Z",
     "iopub.status.idle": "2024-08-16T15:44:42.380838Z",
     "shell.execute_reply": "2024-08-16T15:44:42.379948Z"
    },
    "papermill": {
     "duration": 0.171736,
     "end_time": "2024-08-16T15:44:42.382837",
     "exception": false,
     "start_time": "2024-08-16T15:44:42.211101",
     "status": "completed"
    },
    "tags": []
   },
   "outputs": [
    {
     "data": {
      "text/plain": [
       "tensor(0.7865)"
      ]
     },
     "execution_count": 44,
     "metadata": {},
     "output_type": "execute_result"
    }
   ],
   "source": [
    "def acc(coeffs): return (val_dep.bool()==(calc_preds(coeffs, val_indep)>0.5)).float().mean()\n",
    "acc(coeffs)"
   ]
  },
  {
   "cell_type": "markdown",
   "id": "e5f7d186",
   "metadata": {
    "papermill": {
     "duration": 0.155305,
     "end_time": "2024-08-16T15:44:42.695995",
     "exception": false,
     "start_time": "2024-08-16T15:44:42.540690",
     "status": "completed"
    },
    "tags": []
   },
   "source": [
    "## Using sigmoid"
   ]
  },
  {
   "cell_type": "markdown",
   "id": "93607979",
   "metadata": {
    "papermill": {
     "duration": 0.160061,
     "end_time": "2024-08-16T15:44:43.017989",
     "exception": false,
     "start_time": "2024-08-16T15:44:42.857928",
     "status": "completed"
    },
    "tags": []
   },
   "source": [
    "Looking at our predictions, there's one obvious problem -- some of our predictions of the probability of survival are `>1`, and some are `<0`:"
   ]
  },
  {
   "cell_type": "code",
   "execution_count": 45,
   "id": "988e2347",
   "metadata": {
    "execution": {
     "iopub.execute_input": "2024-08-16T15:44:43.336817Z",
     "iopub.status.busy": "2024-08-16T15:44:43.336491Z",
     "iopub.status.idle": "2024-08-16T15:44:43.343309Z",
     "shell.execute_reply": "2024-08-16T15:44:43.342594Z"
    },
    "papermill": {
     "duration": 0.16972,
     "end_time": "2024-08-16T15:44:43.345353",
     "exception": false,
     "start_time": "2024-08-16T15:44:43.175633",
     "status": "completed"
    },
    "tags": []
   },
   "outputs": [
    {
     "data": {
      "text/plain": [
       "tensor([ 0.8160,  0.1295, -0.0148,  0.1831,  0.1520,  0.1350,  0.7279,  0.7754,  0.3222,  0.6740,  0.0753,  0.0389,  0.2216,  0.7631,\n",
       "         0.0678,  0.3997,  0.3324,  0.8278,  0.1078,  0.7126,  0.1023,  0.3627,  0.9937,  0.8050,  0.1153,  0.1455,  0.8652,  0.3425])"
      ]
     },
     "execution_count": 45,
     "metadata": {},
     "output_type": "execute_result"
    }
   ],
   "source": [
    "preds[:28]"
   ]
  },
  {
   "cell_type": "markdown",
   "id": "1f17cf2e",
   "metadata": {
    "papermill": {
     "duration": 0.15526,
     "end_time": "2024-08-16T15:44:43.659144",
     "exception": false,
     "start_time": "2024-08-16T15:44:43.503884",
     "status": "completed"
    },
    "tags": []
   },
   "source": [
    "To fix this, we should pass every prediction through the *sigmoid function*, which has a minimum at zero and maximum at one, and is defined as follows:"
   ]
  },
  {
   "cell_type": "code",
   "execution_count": 46,
   "id": "fd8973a1",
   "metadata": {
    "execution": {
     "iopub.execute_input": "2024-08-16T15:44:43.971759Z",
     "iopub.status.busy": "2024-08-16T15:44:43.971461Z",
     "iopub.status.idle": "2024-08-16T15:44:44.931726Z",
     "shell.execute_reply": "2024-08-16T15:44:44.930888Z"
    },
    "papermill": {
     "duration": 1.11701,
     "end_time": "2024-08-16T15:44:44.934108",
     "exception": false,
     "start_time": "2024-08-16T15:44:43.817098",
     "status": "completed"
    },
    "tags": []
   },
   "outputs": [
    {
     "data": {
      "image/png": "[encoded data removed]",
      "text/plain": [
       "<Figure size 432x288 with 1 Axes>"
      ]
     },
     "metadata": {
      "needs_background": "light"
     },
     "output_type": "display_data"
    }
   ],
   "source": [
    "import sympy\n",
    "sympy.plot(\"1/(1+exp(-x))\", xlim=(-5,5));"
   ]
  },
  {
   "cell_type": "markdown",
   "id": "ea01b5ed",
   "metadata": {
    "papermill": {
     "duration": 0.163378,
     "end_time": "2024-08-16T15:44:45.265228",
     "exception": false,
     "start_time": "2024-08-16T15:44:45.101850",
     "status": "completed"
    },
    "tags": []
   },
   "source": [
    "PyTorch already defines that function for us, so we can modify `calc_preds` to use it:"
   ]
  },
  {
   "cell_type": "code",
   "execution_count": 47,
   "id": "92dfe916",
   "metadata": {
    "execution": {
     "iopub.execute_input": "2024-08-16T15:44:45.582919Z",
     "iopub.status.busy": "2024-08-16T15:44:45.582106Z",
     "iopub.status.idle": "2024-08-16T15:44:45.586617Z",
     "shell.execute_reply": "2024-08-16T15:44:45.585870Z"
    },
    "papermill": {
     "duration": 0.164691,
     "end_time": "2024-08-16T15:44:45.588823",
     "exception": false,
     "start_time": "2024-08-16T15:44:45.424132",
     "status": "completed"
    },
    "tags": []
   },
   "outputs": [],
   "source": [
    "def calc_preds(coeffs, indeps): return torch.sigmoid((indeps*coeffs).sum(axis=1))"
   ]
  },
  {
   "cell_type": "markdown",
   "id": "f1720f48",
   "metadata": {
    "papermill": {
     "duration": 0.154657,
     "end_time": "2024-08-16T15:44:45.896326",
     "exception": false,
     "start_time": "2024-08-16T15:44:45.741669",
     "status": "completed"
    },
    "tags": []
   },
   "source": [
    "Let's train a new model now, using this updated function to calculate predictions:"
   ]
  },
  {
   "cell_type": "code",
   "execution_count": 48,
   "id": "30926828",
   "metadata": {
    "execution": {
     "iopub.execute_input": "2024-08-16T15:44:46.214935Z",
     "iopub.status.busy": "2024-08-16T15:44:46.214203Z",
     "iopub.status.idle": "2024-08-16T15:44:46.234346Z",
     "shell.execute_reply": "2024-08-16T15:44:46.233549Z"
    },
    "papermill": {
     "duration": 0.180469,
     "end_time": "2024-08-16T15:44:46.236436",
     "exception": false,
     "start_time": "2024-08-16T15:44:46.055967",
     "status": "completed"
    },
    "tags": []
   },
   "outputs": [
    {
     "name": "stdout",
     "output_type": "stream",
     "text": [
      "0.510; 0.327; 0.294; 0.207; 0.201; 0.199; 0.198; 0.197; 0.196; 0.196; 0.196; 0.195; 0.195; 0.195; 0.195; 0.195; 0.195; 0.195; 0.194; 0.194; 0.194; 0.194; 0.194; 0.194; 0.194; 0.194; 0.194; 0.194; 0.194; 0.194; "
     ]
    }
   ],
   "source": [
    "coeffs = train_model(lr=100)"
   ]
  },
  {
   "cell_type": "markdown",
   "id": "960558c1",
   "metadata": {
    "papermill": {
     "duration": 0.164622,
     "end_time": "2024-08-16T15:44:46.565460",
     "exception": false,
     "start_time": "2024-08-16T15:44:46.400838",
     "status": "completed"
    },
    "tags": []
   },
   "source": [
    "The loss has improved by a lot. Let's check the accuracy:"
   ]
  },
  {
   "cell_type": "code",
   "execution_count": 49,
   "id": "0381be61",
   "metadata": {
    "execution": {
     "iopub.execute_input": "2024-08-16T15:44:46.886895Z",
     "iopub.status.busy": "2024-08-16T15:44:46.886076Z",
     "iopub.status.idle": "2024-08-16T15:44:46.892643Z",
     "shell.execute_reply": "2024-08-16T15:44:46.891953Z"
    },
    "papermill": {
     "duration": 0.169595,
     "end_time": "2024-08-16T15:44:46.894643",
     "exception": false,
     "start_time": "2024-08-16T15:44:46.725048",
     "status": "completed"
    },
    "tags": []
   },
   "outputs": [
    {
     "data": {
      "text/plain": [
       "tensor(0.8258)"
      ]
     },
     "execution_count": 49,
     "metadata": {},
     "output_type": "execute_result"
    }
   ],
   "source": [
    "acc(coeffs)"
   ]
  },
  {
   "cell_type": "markdown",
   "id": "4fd1141b",
   "metadata": {
    "papermill": {
     "duration": 0.171374,
     "end_time": "2024-08-16T15:44:47.235673",
     "exception": false,
     "start_time": "2024-08-16T15:44:47.064299",
     "status": "completed"
    },
    "tags": []
   },
   "source": [
    "That's improved too! Here's the coefficients of our trained model:"
   ]
  },
  {
   "cell_type": "code",
   "execution_count": 50,
   "id": "982fb9ec",
   "metadata": {
    "execution": {
     "iopub.execute_input": "2024-08-16T15:44:47.552845Z",
     "iopub.status.busy": "2024-08-16T15:44:47.552156Z",
     "iopub.status.idle": "2024-08-16T15:44:47.561297Z",
     "shell.execute_reply": "2024-08-16T15:44:47.560541Z"
    },
    "papermill": {
     "duration": 0.171283,
     "end_time": "2024-08-16T15:44:47.563286",
     "exception": false,
     "start_time": "2024-08-16T15:44:47.392003",
     "status": "completed"
    },
    "tags": []
   },
   "outputs": [
    {
     "data": {
      "text/plain": [
       "{'Age': tensor(-1.5061),\n",
       " 'SibSp': tensor(-1.1575),\n",
       " 'Parch': tensor(-0.4267),\n",
       " 'LogFare': tensor(0.2543),\n",
       " 'Sex_male': tensor(-10.3320),\n",
       " 'Sex_female': tensor(8.4185),\n",
       " 'Pclass_1': tensor(3.8389),\n",
       " 'Pclass_2': tensor(2.1398),\n",
       " 'Pclass_3': tensor(-6.2331),\n",
       " 'Embarked_C': tensor(1.4771),\n",
       " 'Embarked_Q': tensor(2.1168),\n",
       " 'Embarked_S': tensor(-4.7958)}"
      ]
     },
     "execution_count": 50,
     "metadata": {},
     "output_type": "execute_result"
    }
   ],
   "source": [
    "show_coeffs()"
   ]
  },
  {
   "cell_type": "markdown",
   "id": "0d47f9eb",
   "metadata": {
    "papermill": {
     "duration": 0.171126,
     "end_time": "2024-08-16T15:44:47.897377",
     "exception": false,
     "start_time": "2024-08-16T15:44:47.726251",
     "status": "completed"
    },
    "tags": []
   },
   "source": [
    "These coefficients seem reasonable -- in general, older people and males were less likely to survive, and first class passengers were more likely to survive."
   ]
  },
  {
   "cell_type": "markdown",
   "id": "14139f73",
   "metadata": {
    "papermill": {
     "duration": 0.158378,
     "end_time": "2024-08-16T15:44:48.210218",
     "exception": false,
     "start_time": "2024-08-16T15:44:48.051840",
     "status": "completed"
    },
    "tags": []
   },
   "source": [
    "## Submitting to Kaggle"
   ]
  },
  {
   "cell_type": "markdown",
   "id": "8d29775e",
   "metadata": {
    "papermill": {
     "duration": 0.155648,
     "end_time": "2024-08-16T15:44:48.525380",
     "exception": false,
     "start_time": "2024-08-16T15:44:48.369732",
     "status": "completed"
    },
    "tags": []
   },
   "source": [
    "Now that we've got a trained model, we can prepare a submission to Kaggle. To do that, first we need to read the test set:"
   ]
  },
  {
   "cell_type": "code",
   "execution_count": 51,
   "id": "551eef1f",
   "metadata": {
    "execution": {
     "iopub.execute_input": "2024-08-16T15:44:48.838246Z",
     "iopub.status.busy": "2024-08-16T15:44:48.837536Z",
     "iopub.status.idle": "2024-08-16T15:44:48.851136Z",
     "shell.execute_reply": "2024-08-16T15:44:48.850406Z"
    },
    "papermill": {
     "duration": 0.173748,
     "end_time": "2024-08-16T15:44:48.853124",
     "exception": false,
     "start_time": "2024-08-16T15:44:48.679376",
     "status": "completed"
    },
    "tags": []
   },
   "outputs": [],
   "source": [
    "tst_df = pd.read_csv(path/'test.csv')"
   ]
  },
  {
   "cell_type": "markdown",
   "id": "92373275",
   "metadata": {
    "papermill": {
     "duration": 0.15856,
     "end_time": "2024-08-16T15:44:49.168829",
     "exception": false,
     "start_time": "2024-08-16T15:44:49.010269",
     "status": "completed"
    },
    "tags": []
   },
   "source": [
    "In this case, it turns out that the test set is missing `Fare` for one passenger. We'll just fill it with `0` to avoid problems:"
   ]
  },
  {
   "cell_type": "code",
   "execution_count": 52,
   "id": "da4abbdf",
   "metadata": {
    "execution": {
     "iopub.execute_input": "2024-08-16T15:44:49.494441Z",
     "iopub.status.busy": "2024-08-16T15:44:49.494052Z",
     "iopub.status.idle": "2024-08-16T15:44:49.499270Z",
     "shell.execute_reply": "2024-08-16T15:44:49.498483Z"
    },
    "papermill": {
     "duration": 0.173261,
     "end_time": "2024-08-16T15:44:49.501570",
     "exception": false,
     "start_time": "2024-08-16T15:44:49.328309",
     "status": "completed"
    },
    "tags": []
   },
   "outputs": [],
   "source": [
    "tst_df['Fare'] = tst_df.Fare.fillna(0)"
   ]
  },
  {
   "cell_type": "markdown",
   "id": "ba605fcb",
   "metadata": {
    "papermill": {
     "duration": 0.155801,
     "end_time": "2024-08-16T15:44:49.828033",
     "exception": false,
     "start_time": "2024-08-16T15:44:49.672232",
     "status": "completed"
    },
    "tags": []
   },
   "source": [
    "Now we can just copy the same steps we did to our training set and do the same exact things on our test set to preprocess the data:"
   ]
  },
  {
   "cell_type": "code",
   "execution_count": 53,
   "id": "b83e5d3e",
   "metadata": {
    "execution": {
     "iopub.execute_input": "2024-08-16T15:44:50.137822Z",
     "iopub.status.busy": "2024-08-16T15:44:50.137075Z",
     "iopub.status.idle": "2024-08-16T15:44:50.156221Z",
     "shell.execute_reply": "2024-08-16T15:44:50.155446Z"
    },
    "papermill": {
     "duration": 0.17664,
     "end_time": "2024-08-16T15:44:50.158377",
     "exception": false,
     "start_time": "2024-08-16T15:44:49.981737",
     "status": "completed"
    },
    "tags": []
   },
   "outputs": [],
   "source": [
    "tst_df.fillna(modes, inplace=True)\n",
    "tst_df['LogFare'] = np.log(tst_df['Fare']+1)\n",
    "tst_df = pd.get_dummies(tst_df, columns=[\"Sex\",\"Pclass\",\"Embarked\"])\n",
    "\n",
    "tst_indep = tensor(tst_df[indep_cols].values, dtype=torch.float)\n",
    "tst_indep = tst_indep / vals"
   ]
  },
  {
   "cell_type": "markdown",
   "id": "23bdca59",
   "metadata": {
    "papermill": {
     "duration": 0.15973,
     "end_time": "2024-08-16T15:44:50.480317",
     "exception": false,
     "start_time": "2024-08-16T15:44:50.320587",
     "status": "completed"
    },
    "tags": []
   },
   "source": [
    "Let's calculate our predictions of which passengers survived in the test set:"
   ]
  },
  {
   "cell_type": "code",
   "execution_count": 54,
   "id": "07a712b8",
   "metadata": {
    "execution": {
     "iopub.execute_input": "2024-08-16T15:44:50.791878Z",
     "iopub.status.busy": "2024-08-16T15:44:50.791582Z",
     "iopub.status.idle": "2024-08-16T15:44:50.797128Z",
     "shell.execute_reply": "2024-08-16T15:44:50.796384Z"
    },
    "papermill": {
     "duration": 0.163686,
     "end_time": "2024-08-16T15:44:50.799150",
     "exception": false,
     "start_time": "2024-08-16T15:44:50.635464",
     "status": "completed"
    },
    "tags": []
   },
   "outputs": [],
   "source": [
    "tst_df['Survived'] = (calc_preds(tst_indep, coeffs)>0.5).int()"
   ]
  },
  {
   "cell_type": "markdown",
   "id": "91f958b2",
   "metadata": {
    "papermill": {
     "duration": 0.156023,
     "end_time": "2024-08-16T15:44:51.111274",
     "exception": false,
     "start_time": "2024-08-16T15:44:50.955251",
     "status": "completed"
    },
    "tags": []
   },
   "source": [
    "The sample submission on the Kaggle competition site shows that we're expected to upload a CSV with just `PassengerId` and `Survived`, so let's create that and save it:"
   ]
  },
  {
   "cell_type": "code",
   "execution_count": 55,
   "id": "df4ab2be",
   "metadata": {
    "execution": {
     "iopub.execute_input": "2024-08-16T15:44:51.432542Z",
     "iopub.status.busy": "2024-08-16T15:44:51.432223Z",
     "iopub.status.idle": "2024-08-16T15:44:51.442064Z",
     "shell.execute_reply": "2024-08-16T15:44:51.441406Z"
    },
    "papermill": {
     "duration": 0.174841,
     "end_time": "2024-08-16T15:44:51.444198",
     "exception": false,
     "start_time": "2024-08-16T15:44:51.269357",
     "status": "completed"
    },
    "tags": []
   },
   "outputs": [],
   "source": [
    "sub_df = tst_df[['PassengerId','Survived']]\n",
    "sub_df.to_csv('sub.csv', index=False)"
   ]
  },
  {
   "cell_type": "markdown",
   "id": "9194656e",
   "metadata": {
    "papermill": {
     "duration": 0.157828,
     "end_time": "2024-08-16T15:44:51.762482",
     "exception": false,
     "start_time": "2024-08-16T15:44:51.604654",
     "status": "completed"
    },
    "tags": []
   },
   "source": [
    "We can check the first few rows of the file to make sure it looks reasonable:"
   ]
  },
  {
   "cell_type": "code",
   "execution_count": 56,
   "id": "5c386026",
   "metadata": {
    "execution": {
     "iopub.execute_input": "2024-08-16T15:44:52.073791Z",
     "iopub.status.busy": "2024-08-16T15:44:52.073520Z",
     "iopub.status.idle": "2024-08-16T15:44:53.129646Z",
     "shell.execute_reply": "2024-08-16T15:44:53.128730Z"
    },
    "papermill": {
     "duration": 1.214845,
     "end_time": "2024-08-16T15:44:53.132110",
     "exception": false,
     "start_time": "2024-08-16T15:44:51.917265",
     "status": "completed"
    },
    "tags": []
   },
   "outputs": [
    {
     "name": "stdout",
     "output_type": "stream",
     "text": [
      "PassengerId,Survived\r\n",
      "892,0\r\n",
      "893,0\r\n",
      "894,0\r\n",
      "895,0\r\n",
      "896,0\r\n",
      "897,0\r\n",
      "898,1\r\n",
      "899,0\r\n",
      "900,1\r\n"
     ]
    }
   ],
   "source": [
    "!head sub.csv"
   ]
  },
  {
   "cell_type": "markdown",
   "id": "0b398931",
   "metadata": {
    "papermill": {
     "duration": 0.156033,
     "end_time": "2024-08-16T15:44:53.445604",
     "exception": false,
     "start_time": "2024-08-16T15:44:53.289571",
     "status": "completed"
    },
    "tags": []
   },
   "source": [
    "When you click \"save version\" in Kaggle, and wait for the notebook to run, you'll see that `sub.csv` appears in the \"Data\" tab. Clicking on that file will show a *Submit* button, which allows you to submit to the competition."
   ]
  },
  {
   "cell_type": "markdown",
   "id": "68cfbc38",
   "metadata": {
    "papermill": {
     "duration": 0.15293,
     "end_time": "2024-08-16T15:44:53.755358",
     "exception": false,
     "start_time": "2024-08-16T15:44:53.602428",
     "status": "completed"
    },
    "tags": []
   },
   "source": [
    "## Using matrix product"
   ]
  },
  {
   "cell_type": "markdown",
   "id": "61fac793",
   "metadata": {
    "papermill": {
     "duration": 0.156871,
     "end_time": "2024-08-16T15:44:54.065572",
     "exception": false,
     "start_time": "2024-08-16T15:44:53.908701",
     "status": "completed"
    },
    "tags": []
   },
   "source": [
    "We can make things quite a bit neater...\n",
    "\n",
    "Take a look at the inner-most calculation we're doing to get the predictions:"
   ]
  },
  {
   "cell_type": "code",
   "execution_count": 57,
   "id": "3eb1cd67",
   "metadata": {
    "execution": {
     "iopub.execute_input": "2024-08-16T15:44:54.382220Z",
     "iopub.status.busy": "2024-08-16T15:44:54.381904Z",
     "iopub.status.idle": "2024-08-16T15:44:54.391928Z",
     "shell.execute_reply": "2024-08-16T15:44:54.391209Z"
    },
    "papermill": {
     "duration": 0.171531,
     "end_time": "2024-08-16T15:44:54.393979",
     "exception": false,
     "start_time": "2024-08-16T15:44:54.222448",
     "status": "completed"
    },
    "tags": []
   },
   "outputs": [
    {
     "data": {
      "text/plain": [
       "tensor([ 12.3288, -14.8119, -15.4540, -13.1513, -13.3512, -13.6469,   3.6248,   5.3429, -22.0878,   3.1233, -21.8742, -15.6421, -21.5504,\n",
       "          3.9393, -21.9190, -12.0010, -12.3775,   5.3550, -13.5880,  -3.1015, -21.7237, -12.2081,  12.9767,   4.7427, -21.6525, -14.9135,\n",
       "         -2.7433, -12.3210, -21.5886,   3.9387,   5.3890,  -3.6196, -21.6296, -21.8454,  12.2159,  -3.2275, -12.0289,  13.4560, -21.7230,\n",
       "         -3.1366, -13.2462, -21.7230, -13.6831,  13.3092, -21.6477,  -3.5868, -21.6854, -21.8316, -14.8158,  -2.9386,  -5.3103, -22.2384,\n",
       "        -22.1097, -21.7466, -13.3780, -13.4909, -14.8119, -22.0690, -21.6666, -21.7818,  -5.4439, -21.7407, -12.6551, -21.6671,   4.9238,\n",
       "        -11.5777, -13.3323, -21.9638, -15.3030,   5.0243, -21.7614,   3.1820, -13.4721, -21.7170, -11.6066, -21.5737, -21.7230, -11.9652,\n",
       "        -13.2382, -13.7599, -13.2170,  13.1347, -21.7049, -21.7268,   4.9207,  -7.3198,  -5.3081,   7.1065,  11.4948, -13.3135, -21.8723,\n",
       "        -21.7230,  13.3603, -15.5670,   3.4105,  -7.2857, -13.7197,   3.6909,   3.9763, -14.7227, -21.8268,   3.9387, -21.8743, -21.8367,\n",
       "        -11.8518, -13.6712, -21.8299,   4.9440,  -5.4471, -21.9666,   5.1333,  -3.2187, -11.6008,  13.7920, -21.7230,  12.6369,  -3.7268,\n",
       "        -14.8119, -22.0637,  12.9468, -22.1610,  -6.1827, -14.8119,  -3.2838, -15.4540, -11.6950,  -2.9926,  -3.0110, -21.5664, -13.8268,\n",
       "          7.3426, -21.8418,   5.0744,   5.2582,  13.3415, -21.6289, -13.9898, -21.8112,  -7.3316,   5.2296, -13.4453,  12.7891, -22.1235,\n",
       "        -14.9625,  -3.4339,   6.3089, -21.9839,   3.1968,   7.2400,   2.8558,  -3.1187,   3.7965,   5.4667, -15.1101, -15.0597, -22.9391,\n",
       "        -21.7230,  -3.0346, -13.5206, -21.7011,  13.4425,  -7.2690, -21.8335, -12.0582,  13.0489,   6.7993,   5.2160,   5.0794, -12.6957,\n",
       "        -12.1838,  -3.0873, -21.6070,   7.0744, -21.7170, -22.1001,   6.8159, -11.6002, -21.6310])"
      ]
     },
     "execution_count": 57,
     "metadata": {},
     "output_type": "execute_result"
    }
   ],
   "source": [
    "(val_indep*coeffs).sum(axis=1)"
   ]
  },
  {
   "cell_type": "markdown",
   "id": "577afe83",
   "metadata": {
    "papermill": {
     "duration": 0.158464,
     "end_time": "2024-08-16T15:44:54.709622",
     "exception": false,
     "start_time": "2024-08-16T15:44:54.551158",
     "status": "completed"
    },
    "tags": []
   },
   "source": [
    "Multiplying elements together and then adding across rows is identical to doing a matrix-vector product! Python uses the `@` operator to indicate matrix products, and is supported by PyTorch tensors. Therefore, we can replicate the above calculate more simply like so:"
   ]
  },
  {
   "cell_type": "code",
   "execution_count": 58,
   "id": "f30fd43f",
   "metadata": {
    "execution": {
     "iopub.execute_input": "2024-08-16T15:44:55.033169Z",
     "iopub.status.busy": "2024-08-16T15:44:55.032305Z",
     "iopub.status.idle": "2024-08-16T15:44:55.082861Z",
     "shell.execute_reply": "2024-08-16T15:44:55.082010Z"
    },
    "papermill": {
     "duration": 0.213925,
     "end_time": "2024-08-16T15:44:55.084917",
     "exception": false,
     "start_time": "2024-08-16T15:44:54.870992",
     "status": "completed"
    },
    "tags": []
   },
   "outputs": [
    {
     "data": {
      "text/plain": [
       "tensor([ 12.3288, -14.8119, -15.4540, -13.1513, -13.3511, -13.6468,   3.6248,   5.3429, -22.0878,   3.1233, -21.8742, -15.6421, -21.5504,\n",
       "          3.9393, -21.9190, -12.0010, -12.3775,   5.3550, -13.5880,  -3.1015, -21.7237, -12.2081,  12.9767,   4.7427, -21.6525, -14.9135,\n",
       "         -2.7433, -12.3210, -21.5886,   3.9387,   5.3890,  -3.6196, -21.6296, -21.8454,  12.2159,  -3.2275, -12.0289,  13.4560, -21.7230,\n",
       "         -3.1366, -13.2462, -21.7230, -13.6831,  13.3092, -21.6477,  -3.5868, -21.6854, -21.8316, -14.8158,  -2.9386,  -5.3103, -22.2384,\n",
       "        -22.1097, -21.7466, -13.3780, -13.4909, -14.8119, -22.0690, -21.6666, -21.7818,  -5.4439, -21.7407, -12.6551, -21.6671,   4.9238,\n",
       "        -11.5777, -13.3323, -21.9638, -15.3030,   5.0243, -21.7614,   3.1820, -13.4721, -21.7170, -11.6066, -21.5737, -21.7230, -11.9652,\n",
       "        -13.2382, -13.7599, -13.2170,  13.1347, -21.7049, -21.7268,   4.9207,  -7.3198,  -5.3081,   7.1065,  11.4948, -13.3135, -21.8723,\n",
       "        -21.7230,  13.3603, -15.5670,   3.4105,  -7.2857, -13.7197,   3.6909,   3.9763, -14.7227, -21.8268,   3.9387, -21.8743, -21.8367,\n",
       "        -11.8518, -13.6712, -21.8299,   4.9440,  -5.4471, -21.9666,   5.1333,  -3.2187, -11.6008,  13.7920, -21.7230,  12.6369,  -3.7268,\n",
       "        -14.8119, -22.0637,  12.9468, -22.1610,  -6.1827, -14.8119,  -3.2838, -15.4540, -11.6950,  -2.9926,  -3.0110, -21.5664, -13.8268,\n",
       "          7.3426, -21.8418,   5.0744,   5.2582,  13.3415, -21.6289, -13.9898, -21.8112,  -7.3316,   5.2296, -13.4453,  12.7891, -22.1235,\n",
       "        -14.9625,  -3.4339,   6.3089, -21.9839,   3.1968,   7.2400,   2.8558,  -3.1187,   3.7965,   5.4667, -15.1101, -15.0597, -22.9391,\n",
       "        -21.7230,  -3.0346, -13.5206, -21.7011,  13.4425,  -7.2690, -21.8335, -12.0582,  13.0489,   6.7993,   5.2160,   5.0794, -12.6957,\n",
       "        -12.1838,  -3.0873, -21.6070,   7.0744, -21.7170, -22.1001,   6.8159, -11.6002, -21.6310])"
      ]
     },
     "execution_count": 58,
     "metadata": {},
     "output_type": "execute_result"
    }
   ],
   "source": [
    "val_indep@coeffs"
   ]
  },
  {
   "cell_type": "markdown",
   "id": "54fc30de",
   "metadata": {
    "papermill": {
     "duration": 0.161058,
     "end_time": "2024-08-16T15:44:55.403172",
     "exception": false,
     "start_time": "2024-08-16T15:44:55.242114",
     "status": "completed"
    },
    "tags": []
   },
   "source": [
    "It also turns out that this is much faster, because matrix products in PyTorch are very highly optimised.\n",
    "\n",
    "Let's use this to replace how `calc_preds` works:"
   ]
  },
  {
   "cell_type": "code",
   "execution_count": 59,
   "id": "a521145d",
   "metadata": {
    "execution": {
     "iopub.execute_input": "2024-08-16T15:44:55.724487Z",
     "iopub.status.busy": "2024-08-16T15:44:55.723762Z",
     "iopub.status.idle": "2024-08-16T15:44:55.728095Z",
     "shell.execute_reply": "2024-08-16T15:44:55.727310Z"
    },
    "papermill": {
     "duration": 0.166315,
     "end_time": "2024-08-16T15:44:55.730111",
     "exception": false,
     "start_time": "2024-08-16T15:44:55.563796",
     "status": "completed"
    },
    "tags": []
   },
   "outputs": [],
   "source": [
    "def calc_preds(coeffs, indeps): return torch.sigmoid(indeps@coeffs)"
   ]
  },
  {
   "cell_type": "markdown",
   "id": "0a9ea4ec",
   "metadata": {
    "papermill": {
     "duration": 0.154293,
     "end_time": "2024-08-16T15:44:56.041126",
     "exception": false,
     "start_time": "2024-08-16T15:44:55.886833",
     "status": "completed"
    },
    "tags": []
   },
   "source": [
    "In order to do matrix-matrix products (which we'll need in the next section), we need to turn `coeffs` into a column vector (i.e. a matrix with a single column), which we can do by passing a second argument `1` to `torch.rand()`, indicating that we want our coefficients to have one column:"
   ]
  },
  {
   "cell_type": "code",
   "execution_count": 60,
   "id": "73eee54f",
   "metadata": {
    "execution": {
     "iopub.execute_input": "2024-08-16T15:44:56.356201Z",
     "iopub.status.busy": "2024-08-16T15:44:56.355320Z",
     "iopub.status.idle": "2024-08-16T15:44:56.360054Z",
     "shell.execute_reply": "2024-08-16T15:44:56.359235Z"
    },
    "papermill": {
     "duration": 0.165229,
     "end_time": "2024-08-16T15:44:56.362224",
     "exception": false,
     "start_time": "2024-08-16T15:44:56.196995",
     "status": "completed"
    },
    "tags": []
   },
   "outputs": [],
   "source": [
    "def init_coeffs(): return (torch.rand(n_coeff, 1)*0.1).requires_grad_()"
   ]
  },
  {
   "cell_type": "markdown",
   "id": "c30c26e7",
   "metadata": {
    "papermill": {
     "duration": 0.156265,
     "end_time": "2024-08-16T15:44:56.675636",
     "exception": false,
     "start_time": "2024-08-16T15:44:56.519371",
     "status": "completed"
    },
    "tags": []
   },
   "source": [
    "We'll also need to turn our dependent variable into a column vector, which we can do by indexing the column dimension with the special value `None`, which tells PyTorch to add a new dimension in this position:"
   ]
  },
  {
   "cell_type": "code",
   "execution_count": 61,
   "id": "cee9ca11",
   "metadata": {
    "execution": {
     "iopub.execute_input": "2024-08-16T15:44:56.990059Z",
     "iopub.status.busy": "2024-08-16T15:44:56.989276Z",
     "iopub.status.idle": "2024-08-16T15:44:56.993600Z",
     "shell.execute_reply": "2024-08-16T15:44:56.992830Z"
    },
    "papermill": {
     "duration": 0.161528,
     "end_time": "2024-08-16T15:44:56.995557",
     "exception": false,
     "start_time": "2024-08-16T15:44:56.834029",
     "status": "completed"
    },
    "tags": []
   },
   "outputs": [],
   "source": [
    "trn_dep = trn_dep[:,None]\n",
    "val_dep = val_dep[:,None]"
   ]
  },
  {
   "cell_type": "markdown",
   "id": "c3c0b7d0",
   "metadata": {
    "papermill": {
     "duration": 0.179082,
     "end_time": "2024-08-16T15:44:57.330061",
     "exception": false,
     "start_time": "2024-08-16T15:44:57.150979",
     "status": "completed"
    },
    "tags": []
   },
   "source": [
    "We can now train our model as before and confirm we get identical outputs...:"
   ]
  },
  {
   "cell_type": "code",
   "execution_count": 62,
   "id": "bfd6bcae",
   "metadata": {
    "execution": {
     "iopub.execute_input": "2024-08-16T15:44:57.685129Z",
     "iopub.status.busy": "2024-08-16T15:44:57.684839Z",
     "iopub.status.idle": "2024-08-16T15:44:57.709643Z",
     "shell.execute_reply": "2024-08-16T15:44:57.708699Z"
    },
    "papermill": {
     "duration": 0.211434,
     "end_time": "2024-08-16T15:44:57.711835",
     "exception": false,
     "start_time": "2024-08-16T15:44:57.500401",
     "status": "completed"
    },
    "tags": []
   },
   "outputs": [
    {
     "name": "stdout",
     "output_type": "stream",
     "text": [
      "0.512; 0.323; 0.290; 0.205; 0.200; 0.198; 0.197; 0.197; 0.196; 0.196; 0.196; 0.195; 0.195; 0.195; 0.195; 0.195; 0.195; 0.194; 0.194; 0.194; 0.194; 0.194; 0.194; 0.194; 0.194; 0.194; 0.194; 0.194; 0.194; 0.194; "
     ]
    }
   ],
   "source": [
    "coeffs = train_model(lr=100)"
   ]
  },
  {
   "cell_type": "markdown",
   "id": "c7bbea12",
   "metadata": {
    "papermill": {
     "duration": 0.158037,
     "end_time": "2024-08-16T15:44:58.064536",
     "exception": false,
     "start_time": "2024-08-16T15:44:57.906499",
     "status": "completed"
    },
    "tags": []
   },
   "source": [
    "...and identical accuracy:"
   ]
  },
  {
   "cell_type": "code",
   "execution_count": 63,
   "id": "eaba5d8e",
   "metadata": {
    "execution": {
     "iopub.execute_input": "2024-08-16T15:44:58.398248Z",
     "iopub.status.busy": "2024-08-16T15:44:58.397450Z",
     "iopub.status.idle": "2024-08-16T15:44:58.404332Z",
     "shell.execute_reply": "2024-08-16T15:44:58.403661Z"
    },
    "papermill": {
     "duration": 0.175445,
     "end_time": "2024-08-16T15:44:58.406147",
     "exception": false,
     "start_time": "2024-08-16T15:44:58.230702",
     "status": "completed"
    },
    "tags": []
   },
   "outputs": [
    {
     "data": {
      "text/plain": [
       "tensor(0.8258)"
      ]
     },
     "execution_count": 63,
     "metadata": {},
     "output_type": "execute_result"
    }
   ],
   "source": [
    "acc(coeffs)"
   ]
  },
  {
   "cell_type": "markdown",
   "id": "b7ee81ac",
   "metadata": {
    "papermill": {
     "duration": 0.158761,
     "end_time": "2024-08-16T15:44:58.726722",
     "exception": false,
     "start_time": "2024-08-16T15:44:58.567961",
     "status": "completed"
    },
    "tags": []
   },
   "source": [
    "## A neural network"
   ]
  },
  {
   "cell_type": "markdown",
   "id": "161f624c",
   "metadata": {
    "papermill": {
     "duration": 0.163686,
     "end_time": "2024-08-16T15:44:59.046907",
     "exception": false,
     "start_time": "2024-08-16T15:44:58.883221",
     "status": "completed"
    },
    "tags": []
   },
   "source": [
    "We've now got what we need to implement our neural network.\n",
    "\n",
    "First, we'll need to create coefficients for each of our layers. Our first set of coefficients will take our `n_coeff` inputs, and create `n_hidden` outputs. We can choose whatever `n_hidden` we like -- a higher number gives our network more flexibility, but makes it slower and harder to train. So we need a matrix of size `n_coeff` by `n_hidden`. We'll divide these coefficients by `n_hidden` so that when we sum them up in the next layer we'll end up with similar magnitude numbers to what we started with.\n",
    "\n",
    "Then our second layer will need to take the `n_hidden` inputs and create a single output, so that means we need a `n_hidden` by `1` matrix there. The second layer will also need a constant term added."
   ]
  },
  {
   "cell_type": "code",
   "execution_count": 64,
   "id": "9d7ff116",
   "metadata": {
    "execution": {
     "iopub.execute_input": "2024-08-16T15:44:59.375234Z",
     "iopub.status.busy": "2024-08-16T15:44:59.374566Z",
     "iopub.status.idle": "2024-08-16T15:44:59.380099Z",
     "shell.execute_reply": "2024-08-16T15:44:59.379275Z"
    },
    "papermill": {
     "duration": 0.167973,
     "end_time": "2024-08-16T15:44:59.382079",
     "exception": false,
     "start_time": "2024-08-16T15:44:59.214106",
     "status": "completed"
    },
    "tags": []
   },
   "outputs": [],
   "source": [
    "def init_coeffs(n_hidden=20):\n",
    "    layer1 = (torch.rand(n_coeff, n_hidden)-0.5)/n_hidden\n",
    "    layer2 = torch.rand(n_hidden, 1)-0.3\n",
    "    const = torch.rand(1)[0]\n",
    "    return layer1.requires_grad_(),layer2.requires_grad_(),const.requires_grad_()"
   ]
  },
  {
   "cell_type": "markdown",
   "id": "94354f1f",
   "metadata": {
    "papermill": {
     "duration": 0.161059,
     "end_time": "2024-08-16T15:44:59.705647",
     "exception": false,
     "start_time": "2024-08-16T15:44:59.544588",
     "status": "completed"
    },
    "tags": []
   },
   "source": [
    "Now we have our coefficients, we can create our neural net. The key steps are the two matrix products, `indeps@l1` and `res@l2` (where `res` is the output of the first layer). The first layer output is passed to `F.relu` (that's our non-linearity), and the second is passed to `torch.sigmoid` as before."
   ]
  },
  {
   "cell_type": "code",
   "execution_count": 65,
   "id": "75fa16c6",
   "metadata": {
    "execution": {
     "iopub.execute_input": "2024-08-16T15:45:00.029267Z",
     "iopub.status.busy": "2024-08-16T15:45:00.028409Z",
     "iopub.status.idle": "2024-08-16T15:45:00.033809Z",
     "shell.execute_reply": "2024-08-16T15:45:00.033027Z"
    },
    "papermill": {
     "duration": 0.167652,
     "end_time": "2024-08-16T15:45:00.035964",
     "exception": false,
     "start_time": "2024-08-16T15:44:59.868312",
     "status": "completed"
    },
    "tags": []
   },
   "outputs": [],
   "source": [
    "import torch.nn.functional as F\n",
    "\n",
    "def calc_preds(coeffs, indeps):\n",
    "    l1,l2,const = coeffs\n",
    "    res = F.relu(indeps@l1)\n",
    "    res = res@l2 + const\n",
    "    return torch.sigmoid(res)"
   ]
  },
  {
   "cell_type": "markdown",
   "id": "c098400e",
   "metadata": {
    "papermill": {
     "duration": 0.163531,
     "end_time": "2024-08-16T15:45:00.357600",
     "exception": false,
     "start_time": "2024-08-16T15:45:00.194069",
     "status": "completed"
    },
    "tags": []
   },
   "source": [
    "Finally, now that we have more than one set of coefficients, we need to add a loop to update each one:"
   ]
  },
  {
   "cell_type": "code",
   "execution_count": 66,
   "id": "71eebcd6",
   "metadata": {
    "execution": {
     "iopub.execute_input": "2024-08-16T15:45:00.676438Z",
     "iopub.status.busy": "2024-08-16T15:45:00.675689Z",
     "iopub.status.idle": "2024-08-16T15:45:00.680438Z",
     "shell.execute_reply": "2024-08-16T15:45:00.679707Z"
    },
    "papermill": {
     "duration": 0.163897,
     "end_time": "2024-08-16T15:45:00.682234",
     "exception": false,
     "start_time": "2024-08-16T15:45:00.518337",
     "status": "completed"
    },
    "tags": []
   },
   "outputs": [],
   "source": [
    "def update_coeffs(coeffs, lr):\n",
    "    for layer in coeffs:\n",
    "        layer.sub_(layer.grad * lr)\n",
    "        layer.grad.zero_()"
   ]
  },
  {
   "cell_type": "markdown",
   "id": "2a946936",
   "metadata": {
    "papermill": {
     "duration": 0.159901,
     "end_time": "2024-08-16T15:45:01.002555",
     "exception": false,
     "start_time": "2024-08-16T15:45:00.842654",
     "status": "completed"
    },
    "tags": []
   },
   "source": [
    "That's it -- we're now ready to train our model!"
   ]
  },
  {
   "cell_type": "code",
   "execution_count": 67,
   "id": "1b3b4084",
   "metadata": {
    "execution": {
     "iopub.execute_input": "2024-08-16T15:45:01.323288Z",
     "iopub.status.busy": "2024-08-16T15:45:01.322537Z",
     "iopub.status.idle": "2024-08-16T15:45:01.372068Z",
     "shell.execute_reply": "2024-08-16T15:45:01.371148Z"
    },
    "papermill": {
     "duration": 0.212935,
     "end_time": "2024-08-16T15:45:01.374276",
     "exception": false,
     "start_time": "2024-08-16T15:45:01.161341",
     "status": "completed"
    },
    "tags": []
   },
   "outputs": [
    {
     "name": "stdout",
     "output_type": "stream",
     "text": [
      "0.543; 0.532; 0.520; 0.505; 0.487; 0.466; 0.439; 0.407; 0.373; 0.343; 0.319; 0.301; 0.286; 0.274; 0.264; 0.256; 0.250; 0.245; 0.240; 0.237; 0.234; 0.231; 0.229; 0.227; 0.226; 0.224; 0.223; 0.222; 0.221; 0.220; "
     ]
    }
   ],
   "source": [
    "coeffs = train_model(lr=1.4)"
   ]
  },
  {
   "cell_type": "code",
   "execution_count": 68,
   "id": "3902786b",
   "metadata": {
    "execution": {
     "iopub.execute_input": "2024-08-16T15:45:01.700240Z",
     "iopub.status.busy": "2024-08-16T15:45:01.699610Z",
     "iopub.status.idle": "2024-08-16T15:45:01.730551Z",
     "shell.execute_reply": "2024-08-16T15:45:01.729495Z"
    },
    "papermill": {
     "duration": 0.196226,
     "end_time": "2024-08-16T15:45:01.732680",
     "exception": false,
     "start_time": "2024-08-16T15:45:01.536454",
     "status": "completed"
    },
    "tags": []
   },
   "outputs": [
    {
     "name": "stdout",
     "output_type": "stream",
     "text": [
      "0.543; 0.400; 0.260; 0.390; 0.221; 0.211; 0.197; 0.195; 0.193; 0.193; 0.193; 0.193; 0.193; 0.193; 0.193; 0.193; 0.193; 0.192; 0.192; 0.192; 0.192; 0.192; 0.192; 0.192; 0.192; 0.192; 0.192; 0.192; 0.192; 0.192; "
     ]
    }
   ],
   "source": [
    "coeffs = train_model(lr=20)"
   ]
  },
  {
   "cell_type": "markdown",
   "id": "bc3cd672",
   "metadata": {
    "papermill": {
     "duration": 0.165616,
     "end_time": "2024-08-16T15:45:02.061321",
     "exception": false,
     "start_time": "2024-08-16T15:45:01.895705",
     "status": "completed"
    },
    "tags": []
   },
   "source": [
    "It's looking good -- our loss is lower than before. Let's see if that translates to a better result on the validation set:"
   ]
  },
  {
   "cell_type": "code",
   "execution_count": 69,
   "id": "ae58017b",
   "metadata": {
    "execution": {
     "iopub.execute_input": "2024-08-16T15:45:02.386269Z",
     "iopub.status.busy": "2024-08-16T15:45:02.385613Z",
     "iopub.status.idle": "2024-08-16T15:45:02.392802Z",
     "shell.execute_reply": "2024-08-16T15:45:02.392044Z"
    },
    "papermill": {
     "duration": 0.171809,
     "end_time": "2024-08-16T15:45:02.394820",
     "exception": false,
     "start_time": "2024-08-16T15:45:02.223011",
     "status": "completed"
    },
    "tags": []
   },
   "outputs": [
    {
     "data": {
      "text/plain": [
       "tensor(0.8258)"
      ]
     },
     "execution_count": 69,
     "metadata": {},
     "output_type": "execute_result"
    }
   ],
   "source": [
    "acc(coeffs)"
   ]
  },
  {
   "cell_type": "markdown",
   "id": "11ccf648",
   "metadata": {
    "papermill": {
     "duration": 0.156354,
     "end_time": "2024-08-16T15:45:02.709523",
     "exception": false,
     "start_time": "2024-08-16T15:45:02.553169",
     "status": "completed"
    },
    "tags": []
   },
   "source": [
    "In this case our neural net isn't showing better results than the linear model. That's not surprising; this dataset is very small and very simple, and isn't the kind of thing we'd expect to see neural networks excel at. Furthermore, our validation set is too small to reliably see much accuracy difference. But the key thing is that we now know exactly what a real neural net looks like!"
   ]
  },
  {
   "cell_type": "markdown",
   "id": "4e679eb9",
   "metadata": {
    "papermill": {
     "duration": 0.15701,
     "end_time": "2024-08-16T15:45:03.025836",
     "exception": false,
     "start_time": "2024-08-16T15:45:02.868826",
     "status": "completed"
    },
    "tags": []
   },
   "source": [
    "## Deep learning"
   ]
  },
  {
   "cell_type": "markdown",
   "id": "6db62009",
   "metadata": {
    "papermill": {
     "duration": 0.159055,
     "end_time": "2024-08-16T15:45:03.342144",
     "exception": false,
     "start_time": "2024-08-16T15:45:03.183089",
     "status": "completed"
    },
    "tags": []
   },
   "source": [
    "The neural net in the previous section only uses one hidden layer, so it doesn't count as \"deep\" learning. But we can use the exact same technique to make our neural net deep, by adding more matrix multiplications.\n",
    "\n",
    "First, we'll need to create additional coefficients for each layer:"
   ]
  },
  {
   "cell_type": "code",
   "execution_count": 70,
   "id": "905bf163",
   "metadata": {
    "execution": {
     "iopub.execute_input": "2024-08-16T15:45:03.655283Z",
     "iopub.status.busy": "2024-08-16T15:45:03.655004Z",
     "iopub.status.idle": "2024-08-16T15:45:03.661804Z",
     "shell.execute_reply": "2024-08-16T15:45:03.661052Z"
    },
    "papermill": {
     "duration": 0.164291,
     "end_time": "2024-08-16T15:45:03.663775",
     "exception": false,
     "start_time": "2024-08-16T15:45:03.499484",
     "status": "completed"
    },
    "tags": []
   },
   "outputs": [],
   "source": [
    "def init_coeffs():\n",
    "    hiddens = [10, 10]  # <-- set this to the size of each hidden layer you want\n",
    "    sizes = [n_coeff] + hiddens + [1]\n",
    "    n = len(sizes)\n",
    "    layers = [(torch.rand(sizes[i], sizes[i+1])-0.3)/sizes[i+1]*4 for i in range(n-1)]\n",
    "    consts = [(torch.rand(1)[0]-0.5)*0.1 for i in range(n-1)]\n",
    "    for l in layers+consts: l.requires_grad_()\n",
    "    return layers,consts"
   ]
  },
  {
   "cell_type": "markdown",
   "id": "baf7632c",
   "metadata": {
    "papermill": {
     "duration": 0.159163,
     "end_time": "2024-08-16T15:45:03.979693",
     "exception": false,
     "start_time": "2024-08-16T15:45:03.820530",
     "status": "completed"
    },
    "tags": []
   },
   "source": [
    "You'll notice here that there's a lot of messy constants to get the random numbers in just the right ranges. When you train the model in a moment, you'll see that the tiniest changes to these initialisations can cause our model to fail to train at all! This is a key reason that deep learning failed to make much progress in the early days -- it's very finicky to get a good starting point for our coefficients. Nowadays, we have ways to deal with that, which we'll learn about in other notebooks.\n",
    "\n",
    "Our deep learning `calc_preds` looks much the same as before, but now we loop through each layer, instead of listing them separately:"
   ]
  },
  {
   "cell_type": "code",
   "execution_count": 71,
   "id": "ef1bc368",
   "metadata": {
    "execution": {
     "iopub.execute_input": "2024-08-16T15:45:04.339725Z",
     "iopub.status.busy": "2024-08-16T15:45:04.339148Z",
     "iopub.status.idle": "2024-08-16T15:45:04.345003Z",
     "shell.execute_reply": "2024-08-16T15:45:04.344361Z"
    },
    "papermill": {
     "duration": 0.208549,
     "end_time": "2024-08-16T15:45:04.346940",
     "exception": false,
     "start_time": "2024-08-16T15:45:04.138391",
     "status": "completed"
    },
    "tags": []
   },
   "outputs": [],
   "source": [
    "import torch.nn.functional as F\n",
    "\n",
    "def calc_preds(coeffs, indeps):\n",
    "    layers,consts = coeffs\n",
    "    n = len(layers)\n",
    "    res = indeps\n",
    "    for i,l in enumerate(layers):\n",
    "        res = res@l + consts[i]\n",
    "        if i!=n-1: res = F.relu(res)\n",
    "    return torch.sigmoid(res)"
   ]
  },
  {
   "cell_type": "markdown",
   "id": "3f3c331b",
   "metadata": {
    "papermill": {
     "duration": 0.156572,
     "end_time": "2024-08-16T15:45:04.660191",
     "exception": false,
     "start_time": "2024-08-16T15:45:04.503619",
     "status": "completed"
    },
    "tags": []
   },
   "source": [
    "We also need a minor update to `update_coeffs` since we've got `layers` and `consts` separated now:"
   ]
  },
  {
   "cell_type": "code",
   "execution_count": 72,
   "id": "20b8cebd",
   "metadata": {
    "execution": {
     "iopub.execute_input": "2024-08-16T15:45:04.974460Z",
     "iopub.status.busy": "2024-08-16T15:45:04.973822Z",
     "iopub.status.idle": "2024-08-16T15:45:04.978368Z",
     "shell.execute_reply": "2024-08-16T15:45:04.977692Z"
    },
    "papermill": {
     "duration": 0.165865,
     "end_time": "2024-08-16T15:45:04.980464",
     "exception": false,
     "start_time": "2024-08-16T15:45:04.814599",
     "status": "completed"
    },
    "tags": []
   },
   "outputs": [],
   "source": [
    "def update_coeffs(coeffs, lr):\n",
    "    layers,consts = coeffs\n",
    "    for layer in layers+consts:\n",
    "        layer.sub_(layer.grad * lr)\n",
    "        layer.grad.zero_()"
   ]
  },
  {
   "cell_type": "markdown",
   "id": "4245755c",
   "metadata": {
    "papermill": {
     "duration": 0.162364,
     "end_time": "2024-08-16T15:45:05.298569",
     "exception": false,
     "start_time": "2024-08-16T15:45:05.136205",
     "status": "completed"
    },
    "tags": []
   },
   "source": [
    "Let's train our model..."
   ]
  },
  {
   "cell_type": "code",
   "execution_count": 73,
   "id": "fa65f5aa",
   "metadata": {
    "execution": {
     "iopub.execute_input": "2024-08-16T15:45:05.619522Z",
     "iopub.status.busy": "2024-08-16T15:45:05.619218Z",
     "iopub.status.idle": "2024-08-16T15:45:05.651281Z",
     "shell.execute_reply": "2024-08-16T15:45:05.650320Z"
    },
    "papermill": {
     "duration": 0.195077,
     "end_time": "2024-08-16T15:45:05.653315",
     "exception": false,
     "start_time": "2024-08-16T15:45:05.458238",
     "status": "completed"
    },
    "tags": []
   },
   "outputs": [
    {
     "name": "stdout",
     "output_type": "stream",
     "text": [
      "0.521; 0.483; 0.427; 0.379; 0.379; 0.379; 0.379; 0.378; 0.378; 0.378; 0.378; 0.378; 0.378; 0.378; 0.378; 0.378; 0.377; 0.376; 0.371; 0.333; 0.239; 0.224; 0.208; 0.204; 0.203; 0.203; 0.207; 0.197; 0.196; 0.195; "
     ]
    }
   ],
   "source": [
    "coeffs = train_model(lr=4)"
   ]
  },
  {
   "cell_type": "markdown",
   "id": "1467bfe7",
   "metadata": {
    "papermill": {
     "duration": 0.163168,
     "end_time": "2024-08-16T15:45:05.976390",
     "exception": false,
     "start_time": "2024-08-16T15:45:05.813222",
     "status": "completed"
    },
    "tags": []
   },
   "source": [
    "...and check its accuracy:"
   ]
  },
  {
   "cell_type": "code",
   "execution_count": 74,
   "id": "f9cd2a85",
   "metadata": {
    "execution": {
     "iopub.execute_input": "2024-08-16T15:45:06.304045Z",
     "iopub.status.busy": "2024-08-16T15:45:06.303672Z",
     "iopub.status.idle": "2024-08-16T15:45:06.311864Z",
     "shell.execute_reply": "2024-08-16T15:45:06.310889Z"
    },
    "papermill": {
     "duration": 0.177494,
     "end_time": "2024-08-16T15:45:06.314353",
     "exception": false,
     "start_time": "2024-08-16T15:45:06.136859",
     "status": "completed"
    },
    "tags": []
   },
   "outputs": [
    {
     "data": {
      "text/plain": [
       "tensor(0.8258)"
      ]
     },
     "execution_count": 74,
     "metadata": {},
     "output_type": "execute_result"
    }
   ],
   "source": [
    "acc(coeffs)"
   ]
  },
  {
   "cell_type": "markdown",
   "id": "ce6eb901",
   "metadata": {
    "papermill": {
     "duration": 0.160721,
     "end_time": "2024-08-16T15:45:06.647973",
     "exception": false,
     "start_time": "2024-08-16T15:45:06.487252",
     "status": "completed"
    },
    "tags": []
   },
   "source": [
    "## Final thoughts"
   ]
  },
  {
   "cell_type": "markdown",
   "id": "8634bc8d",
   "metadata": {
    "papermill": {
     "duration": 0.162829,
     "end_time": "2024-08-16T15:45:06.974372",
     "exception": false,
     "start_time": "2024-08-16T15:45:06.811543",
     "status": "completed"
    },
    "tags": []
   },
   "source": [
    "It's actually pretty cool that we've managed to create a real deep learning model from scratch and trained it to get over 80% accuracy on this task, all in the course of a single notebook!\n",
    "\n",
    "The \"real\" deep learning models that are used in research and industry look very similar to this, and in fact if you look inside the source code of any deep learning model you'll recognise the basic steps are the same.\n",
    "\n",
    "The biggest differences in practical models to what we have above are:\n",
    "\n",
    "- How initialisation and normalisation is done to ensure the model trains correctly every time\n",
    "- Regularization (to avoid over-fitting)\n",
    "- Modifying the neural net itself to take advantage of knowledge of the problem domain\n",
    "- Doing gradient descent steps on smaller batches, rather than the whole dataset.\n",
    "\n",
    "I'll be adding notebooks about all these later, and will add links here once they're ready.\n",
    "\n",
    "If you found this notebook useful, please remember to click the little up-arrow at the top to upvote it, since I like to know when people have found my work useful, and it helps others find it too. (BTW, be sure you're looking at my [original notebook here](https://www.kaggle.com/code/jhoward/linear-model-and-neural-net-from-scratch) when you do that, and are not on your own copy of it, otherwise your upvote won't get counted!) And if you have any questions or comments, please pop them below -- I read every comment I receive!"
   ]
  },
  {
   "cell_type": "code",
   "execution_count": null,
   "id": "86b36fcb",
   "metadata": {
    "papermill": {
     "duration": 0.165655,
     "end_time": "2024-08-16T15:45:07.300266",
     "exception": false,
     "start_time": "2024-08-16T15:45:07.134611",
     "status": "completed"
    },
    "tags": []
   },
   "outputs": [],
   "source": []
  }
 ],
 "metadata": {
  "kaggle": {
   "accelerator": "gpu",
   "dataSources": [
    {
     "databundleVersionId": 26502,
     "sourceId": 3136,
     "sourceType": "competition"
    }
   ],
   "dockerImageVersionId": 30184,
   "isGpuEnabled": true,
   "isInternetEnabled": true,
   "language": "python",
   "sourceType": "notebook"
  },
  "kernelspec": {
   "display_name": "Python 3",
   "language": "python",
   "name": "python3"
  },
  "language_info": {
   "codemirror_mode": {
    "name": "ipython",
    "version": 3
   },
   "file_extension": ".py",
   "mimetype": "text/x-python",
   "name": "python",
   "nbconvert_exporter": "python",
   "pygments_lexer": "ipython3",
   "version": "3.7.12"
  },
  "papermill": {
   "default_parameters": {},
   "duration": 68.258594,
   "end_time": "2024-08-16T15:45:08.691271",
   "environment_variables": {},
   "exception": null,
   "input_path": "__notebook__.ipynb",
   "output_path": "__notebook__.ipynb",
   "parameters": {},
   "start_time": "2024-08-16T15:44:00.432677",
   "version": "2.3.4"
  }
 },
 "nbformat": 4,
 "nbformat_minor": 5
}
